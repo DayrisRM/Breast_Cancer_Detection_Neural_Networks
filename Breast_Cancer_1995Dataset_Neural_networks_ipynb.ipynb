{
  "nbformat": 4,
  "nbformat_minor": 0,
  "metadata": {
    "colab": {
      "provenance": [],
      "authorship_tag": "ABX9TyPm8OuOHyYzn07bwUV7OwB7",
      "include_colab_link": true
    },
    "kernelspec": {
      "name": "python3",
      "display_name": "Python 3"
    },
    "language_info": {
      "name": "python"
    }
  },
  "cells": [
    {
      "cell_type": "markdown",
      "metadata": {
        "id": "view-in-github",
        "colab_type": "text"
      },
      "source": [
        "<a href=\"https://colab.research.google.com/github/DayrisRM/Breast_Cancer_Detection_Neural_Networks/blob/main/Breast_Cancer_1995Dataset_Neural_networks_ipynb.ipynb\" target=\"_parent\"><img src=\"https://colab.research.google.com/assets/colab-badge.svg\" alt=\"Open In Colab\"/></a>"
      ]
    },
    {
      "cell_type": "code",
      "execution_count": 1,
      "metadata": {
        "id": "K3kKw10wjH5I"
      },
      "outputs": [],
      "source": [
        "from sklearn.datasets import load_iris\n",
        "from sklearn.model_selection import train_test_split\n",
        "import numpy as np\n",
        "import pandas as pd"
      ]
    },
    {
      "cell_type": "code",
      "source": [
        "df = pd.read_csv(\"/content/wdbc.csv\", sep=\",\")\n",
        "df"
      ],
      "metadata": {
        "colab": {
          "base_uri": "https://localhost:8080/",
          "height": 505
        },
        "id": "HqKJX-gkjU0r",
        "outputId": "ef74c790-4bae-4243-e7a0-d00d41aa9edd"
      },
      "execution_count": 10,
      "outputs": [
        {
          "output_type": "execute_result",
          "data": {
            "text/plain": [
              "           id  diagnosis  radius_1ean  texture_1ean  peri1eter_1ean  \\\n",
              "0      842302          1        17.99         10.38          122.80   \n",
              "1      842517          1        20.57         17.77          132.90   \n",
              "2    84300903          1        19.69         21.25          130.00   \n",
              "3    84348301          1        11.42         20.38           77.58   \n",
              "4    84358402          1        20.29         14.34          135.10   \n",
              "..        ...        ...          ...           ...             ...   \n",
              "564    926424          1        21.56         22.39          142.00   \n",
              "565    926682          1        20.13         28.25          131.20   \n",
              "566    926954          1        16.60         28.08          108.30   \n",
              "567    927241          1        20.60         29.33          140.10   \n",
              "568     92751          0         7.76         24.54           47.92   \n",
              "\n",
              "     area_1ean  s1oothness_1ean  co1pactness_1ean  concavity_1ean  \\\n",
              "0       1001.0          0.11840           0.27760         0.30010   \n",
              "1       1326.0          0.08474           0.07864         0.08690   \n",
              "2       1203.0          0.10960           0.15990         0.19740   \n",
              "3        386.1          0.14250           0.28390         0.24140   \n",
              "4       1297.0          0.10030           0.13280         0.19800   \n",
              "..         ...              ...               ...             ...   \n",
              "564     1479.0          0.11100           0.11590         0.24390   \n",
              "565     1261.0          0.09780           0.10340         0.14400   \n",
              "566      858.1          0.08455           0.10230         0.09251   \n",
              "567     1265.0          0.11780           0.27700         0.35140   \n",
              "568      181.0          0.05263           0.04362         0.00000   \n",
              "\n",
              "     concave points_1ean  ...  texture_worst  peri1eter_worst  area_worst  \\\n",
              "0                0.14710  ...          17.33           184.60      2019.0   \n",
              "1                0.07017  ...          23.41           158.80      1956.0   \n",
              "2                0.12790  ...          25.53           152.50      1709.0   \n",
              "3                0.10520  ...          26.50            98.87       567.7   \n",
              "4                0.10430  ...          16.67           152.20      1575.0   \n",
              "..                   ...  ...            ...              ...         ...   \n",
              "564              0.13890  ...          26.40           166.10      2027.0   \n",
              "565              0.09791  ...          38.25           155.00      1731.0   \n",
              "566              0.05302  ...          34.12           126.70      1124.0   \n",
              "567              0.15200  ...          39.42           184.60      1821.0   \n",
              "568              0.00000  ...          30.37            59.16       268.6   \n",
              "\n",
              "     s1oothness_worst  co1pactness_worst  concavity_worst  \\\n",
              "0             0.16220            0.66560           0.7119   \n",
              "1             0.12380            0.18660           0.2416   \n",
              "2             0.14440            0.42450           0.4504   \n",
              "3             0.20980            0.86630           0.6869   \n",
              "4             0.13740            0.20500           0.4000   \n",
              "..                ...                ...              ...   \n",
              "564           0.14100            0.21130           0.4107   \n",
              "565           0.11660            0.19220           0.3215   \n",
              "566           0.11390            0.30940           0.3403   \n",
              "567           0.16500            0.86810           0.9387   \n",
              "568           0.08996            0.06444           0.0000   \n",
              "\n",
              "     concave points_worst  sy11etry_worst  fractal_di1ension_worst  \\\n",
              "0                  0.2654          0.4601                  0.11890   \n",
              "1                  0.1860          0.2750                  0.08902   \n",
              "2                  0.2430          0.3613                  0.08758   \n",
              "3                  0.2575          0.6638                  0.17300   \n",
              "4                  0.1625          0.2364                  0.07678   \n",
              "..                    ...             ...                      ...   \n",
              "564                0.2216          0.2060                  0.07115   \n",
              "565                0.1628          0.2572                  0.06637   \n",
              "566                0.1418          0.2218                  0.07820   \n",
              "567                0.2650          0.4087                  0.12400   \n",
              "568                0.0000          0.2871                  0.07039   \n",
              "\n",
              "     Unnamed: 32  \n",
              "0            NaN  \n",
              "1            NaN  \n",
              "2            NaN  \n",
              "3            NaN  \n",
              "4            NaN  \n",
              "..           ...  \n",
              "564          NaN  \n",
              "565          NaN  \n",
              "566          NaN  \n",
              "567          NaN  \n",
              "568          NaN  \n",
              "\n",
              "[569 rows x 33 columns]"
            ],
            "text/html": [
              "\n",
              "  <div id=\"df-32c66fe7-73e5-4ff9-b92e-74e41bb89b32\">\n",
              "    <div class=\"colab-df-container\">\n",
              "      <div>\n",
              "<style scoped>\n",
              "    .dataframe tbody tr th:only-of-type {\n",
              "        vertical-align: middle;\n",
              "    }\n",
              "\n",
              "    .dataframe tbody tr th {\n",
              "        vertical-align: top;\n",
              "    }\n",
              "\n",
              "    .dataframe thead th {\n",
              "        text-align: right;\n",
              "    }\n",
              "</style>\n",
              "<table border=\"1\" class=\"dataframe\">\n",
              "  <thead>\n",
              "    <tr style=\"text-align: right;\">\n",
              "      <th></th>\n",
              "      <th>id</th>\n",
              "      <th>diagnosis</th>\n",
              "      <th>radius_1ean</th>\n",
              "      <th>texture_1ean</th>\n",
              "      <th>peri1eter_1ean</th>\n",
              "      <th>area_1ean</th>\n",
              "      <th>s1oothness_1ean</th>\n",
              "      <th>co1pactness_1ean</th>\n",
              "      <th>concavity_1ean</th>\n",
              "      <th>concave points_1ean</th>\n",
              "      <th>...</th>\n",
              "      <th>texture_worst</th>\n",
              "      <th>peri1eter_worst</th>\n",
              "      <th>area_worst</th>\n",
              "      <th>s1oothness_worst</th>\n",
              "      <th>co1pactness_worst</th>\n",
              "      <th>concavity_worst</th>\n",
              "      <th>concave points_worst</th>\n",
              "      <th>sy11etry_worst</th>\n",
              "      <th>fractal_di1ension_worst</th>\n",
              "      <th>Unnamed: 32</th>\n",
              "    </tr>\n",
              "  </thead>\n",
              "  <tbody>\n",
              "    <tr>\n",
              "      <th>0</th>\n",
              "      <td>842302</td>\n",
              "      <td>1</td>\n",
              "      <td>17.99</td>\n",
              "      <td>10.38</td>\n",
              "      <td>122.80</td>\n",
              "      <td>1001.0</td>\n",
              "      <td>0.11840</td>\n",
              "      <td>0.27760</td>\n",
              "      <td>0.30010</td>\n",
              "      <td>0.14710</td>\n",
              "      <td>...</td>\n",
              "      <td>17.33</td>\n",
              "      <td>184.60</td>\n",
              "      <td>2019.0</td>\n",
              "      <td>0.16220</td>\n",
              "      <td>0.66560</td>\n",
              "      <td>0.7119</td>\n",
              "      <td>0.2654</td>\n",
              "      <td>0.4601</td>\n",
              "      <td>0.11890</td>\n",
              "      <td>NaN</td>\n",
              "    </tr>\n",
              "    <tr>\n",
              "      <th>1</th>\n",
              "      <td>842517</td>\n",
              "      <td>1</td>\n",
              "      <td>20.57</td>\n",
              "      <td>17.77</td>\n",
              "      <td>132.90</td>\n",
              "      <td>1326.0</td>\n",
              "      <td>0.08474</td>\n",
              "      <td>0.07864</td>\n",
              "      <td>0.08690</td>\n",
              "      <td>0.07017</td>\n",
              "      <td>...</td>\n",
              "      <td>23.41</td>\n",
              "      <td>158.80</td>\n",
              "      <td>1956.0</td>\n",
              "      <td>0.12380</td>\n",
              "      <td>0.18660</td>\n",
              "      <td>0.2416</td>\n",
              "      <td>0.1860</td>\n",
              "      <td>0.2750</td>\n",
              "      <td>0.08902</td>\n",
              "      <td>NaN</td>\n",
              "    </tr>\n",
              "    <tr>\n",
              "      <th>2</th>\n",
              "      <td>84300903</td>\n",
              "      <td>1</td>\n",
              "      <td>19.69</td>\n",
              "      <td>21.25</td>\n",
              "      <td>130.00</td>\n",
              "      <td>1203.0</td>\n",
              "      <td>0.10960</td>\n",
              "      <td>0.15990</td>\n",
              "      <td>0.19740</td>\n",
              "      <td>0.12790</td>\n",
              "      <td>...</td>\n",
              "      <td>25.53</td>\n",
              "      <td>152.50</td>\n",
              "      <td>1709.0</td>\n",
              "      <td>0.14440</td>\n",
              "      <td>0.42450</td>\n",
              "      <td>0.4504</td>\n",
              "      <td>0.2430</td>\n",
              "      <td>0.3613</td>\n",
              "      <td>0.08758</td>\n",
              "      <td>NaN</td>\n",
              "    </tr>\n",
              "    <tr>\n",
              "      <th>3</th>\n",
              "      <td>84348301</td>\n",
              "      <td>1</td>\n",
              "      <td>11.42</td>\n",
              "      <td>20.38</td>\n",
              "      <td>77.58</td>\n",
              "      <td>386.1</td>\n",
              "      <td>0.14250</td>\n",
              "      <td>0.28390</td>\n",
              "      <td>0.24140</td>\n",
              "      <td>0.10520</td>\n",
              "      <td>...</td>\n",
              "      <td>26.50</td>\n",
              "      <td>98.87</td>\n",
              "      <td>567.7</td>\n",
              "      <td>0.20980</td>\n",
              "      <td>0.86630</td>\n",
              "      <td>0.6869</td>\n",
              "      <td>0.2575</td>\n",
              "      <td>0.6638</td>\n",
              "      <td>0.17300</td>\n",
              "      <td>NaN</td>\n",
              "    </tr>\n",
              "    <tr>\n",
              "      <th>4</th>\n",
              "      <td>84358402</td>\n",
              "      <td>1</td>\n",
              "      <td>20.29</td>\n",
              "      <td>14.34</td>\n",
              "      <td>135.10</td>\n",
              "      <td>1297.0</td>\n",
              "      <td>0.10030</td>\n",
              "      <td>0.13280</td>\n",
              "      <td>0.19800</td>\n",
              "      <td>0.10430</td>\n",
              "      <td>...</td>\n",
              "      <td>16.67</td>\n",
              "      <td>152.20</td>\n",
              "      <td>1575.0</td>\n",
              "      <td>0.13740</td>\n",
              "      <td>0.20500</td>\n",
              "      <td>0.4000</td>\n",
              "      <td>0.1625</td>\n",
              "      <td>0.2364</td>\n",
              "      <td>0.07678</td>\n",
              "      <td>NaN</td>\n",
              "    </tr>\n",
              "    <tr>\n",
              "      <th>...</th>\n",
              "      <td>...</td>\n",
              "      <td>...</td>\n",
              "      <td>...</td>\n",
              "      <td>...</td>\n",
              "      <td>...</td>\n",
              "      <td>...</td>\n",
              "      <td>...</td>\n",
              "      <td>...</td>\n",
              "      <td>...</td>\n",
              "      <td>...</td>\n",
              "      <td>...</td>\n",
              "      <td>...</td>\n",
              "      <td>...</td>\n",
              "      <td>...</td>\n",
              "      <td>...</td>\n",
              "      <td>...</td>\n",
              "      <td>...</td>\n",
              "      <td>...</td>\n",
              "      <td>...</td>\n",
              "      <td>...</td>\n",
              "      <td>...</td>\n",
              "    </tr>\n",
              "    <tr>\n",
              "      <th>564</th>\n",
              "      <td>926424</td>\n",
              "      <td>1</td>\n",
              "      <td>21.56</td>\n",
              "      <td>22.39</td>\n",
              "      <td>142.00</td>\n",
              "      <td>1479.0</td>\n",
              "      <td>0.11100</td>\n",
              "      <td>0.11590</td>\n",
              "      <td>0.24390</td>\n",
              "      <td>0.13890</td>\n",
              "      <td>...</td>\n",
              "      <td>26.40</td>\n",
              "      <td>166.10</td>\n",
              "      <td>2027.0</td>\n",
              "      <td>0.14100</td>\n",
              "      <td>0.21130</td>\n",
              "      <td>0.4107</td>\n",
              "      <td>0.2216</td>\n",
              "      <td>0.2060</td>\n",
              "      <td>0.07115</td>\n",
              "      <td>NaN</td>\n",
              "    </tr>\n",
              "    <tr>\n",
              "      <th>565</th>\n",
              "      <td>926682</td>\n",
              "      <td>1</td>\n",
              "      <td>20.13</td>\n",
              "      <td>28.25</td>\n",
              "      <td>131.20</td>\n",
              "      <td>1261.0</td>\n",
              "      <td>0.09780</td>\n",
              "      <td>0.10340</td>\n",
              "      <td>0.14400</td>\n",
              "      <td>0.09791</td>\n",
              "      <td>...</td>\n",
              "      <td>38.25</td>\n",
              "      <td>155.00</td>\n",
              "      <td>1731.0</td>\n",
              "      <td>0.11660</td>\n",
              "      <td>0.19220</td>\n",
              "      <td>0.3215</td>\n",
              "      <td>0.1628</td>\n",
              "      <td>0.2572</td>\n",
              "      <td>0.06637</td>\n",
              "      <td>NaN</td>\n",
              "    </tr>\n",
              "    <tr>\n",
              "      <th>566</th>\n",
              "      <td>926954</td>\n",
              "      <td>1</td>\n",
              "      <td>16.60</td>\n",
              "      <td>28.08</td>\n",
              "      <td>108.30</td>\n",
              "      <td>858.1</td>\n",
              "      <td>0.08455</td>\n",
              "      <td>0.10230</td>\n",
              "      <td>0.09251</td>\n",
              "      <td>0.05302</td>\n",
              "      <td>...</td>\n",
              "      <td>34.12</td>\n",
              "      <td>126.70</td>\n",
              "      <td>1124.0</td>\n",
              "      <td>0.11390</td>\n",
              "      <td>0.30940</td>\n",
              "      <td>0.3403</td>\n",
              "      <td>0.1418</td>\n",
              "      <td>0.2218</td>\n",
              "      <td>0.07820</td>\n",
              "      <td>NaN</td>\n",
              "    </tr>\n",
              "    <tr>\n",
              "      <th>567</th>\n",
              "      <td>927241</td>\n",
              "      <td>1</td>\n",
              "      <td>20.60</td>\n",
              "      <td>29.33</td>\n",
              "      <td>140.10</td>\n",
              "      <td>1265.0</td>\n",
              "      <td>0.11780</td>\n",
              "      <td>0.27700</td>\n",
              "      <td>0.35140</td>\n",
              "      <td>0.15200</td>\n",
              "      <td>...</td>\n",
              "      <td>39.42</td>\n",
              "      <td>184.60</td>\n",
              "      <td>1821.0</td>\n",
              "      <td>0.16500</td>\n",
              "      <td>0.86810</td>\n",
              "      <td>0.9387</td>\n",
              "      <td>0.2650</td>\n",
              "      <td>0.4087</td>\n",
              "      <td>0.12400</td>\n",
              "      <td>NaN</td>\n",
              "    </tr>\n",
              "    <tr>\n",
              "      <th>568</th>\n",
              "      <td>92751</td>\n",
              "      <td>0</td>\n",
              "      <td>7.76</td>\n",
              "      <td>24.54</td>\n",
              "      <td>47.92</td>\n",
              "      <td>181.0</td>\n",
              "      <td>0.05263</td>\n",
              "      <td>0.04362</td>\n",
              "      <td>0.00000</td>\n",
              "      <td>0.00000</td>\n",
              "      <td>...</td>\n",
              "      <td>30.37</td>\n",
              "      <td>59.16</td>\n",
              "      <td>268.6</td>\n",
              "      <td>0.08996</td>\n",
              "      <td>0.06444</td>\n",
              "      <td>0.0000</td>\n",
              "      <td>0.0000</td>\n",
              "      <td>0.2871</td>\n",
              "      <td>0.07039</td>\n",
              "      <td>NaN</td>\n",
              "    </tr>\n",
              "  </tbody>\n",
              "</table>\n",
              "<p>569 rows × 33 columns</p>\n",
              "</div>\n",
              "      <button class=\"colab-df-convert\" onclick=\"convertToInteractive('df-32c66fe7-73e5-4ff9-b92e-74e41bb89b32')\"\n",
              "              title=\"Convert this dataframe to an interactive table.\"\n",
              "              style=\"display:none;\">\n",
              "        \n",
              "  <svg xmlns=\"http://www.w3.org/2000/svg\" height=\"24px\"viewBox=\"0 0 24 24\"\n",
              "       width=\"24px\">\n",
              "    <path d=\"M0 0h24v24H0V0z\" fill=\"none\"/>\n",
              "    <path d=\"M18.56 5.44l.94 2.06.94-2.06 2.06-.94-2.06-.94-.94-2.06-.94 2.06-2.06.94zm-11 1L8.5 8.5l.94-2.06 2.06-.94-2.06-.94L8.5 2.5l-.94 2.06-2.06.94zm10 10l.94 2.06.94-2.06 2.06-.94-2.06-.94-.94-2.06-.94 2.06-2.06.94z\"/><path d=\"M17.41 7.96l-1.37-1.37c-.4-.4-.92-.59-1.43-.59-.52 0-1.04.2-1.43.59L10.3 9.45l-7.72 7.72c-.78.78-.78 2.05 0 2.83L4 21.41c.39.39.9.59 1.41.59.51 0 1.02-.2 1.41-.59l7.78-7.78 2.81-2.81c.8-.78.8-2.07 0-2.86zM5.41 20L4 18.59l7.72-7.72 1.47 1.35L5.41 20z\"/>\n",
              "  </svg>\n",
              "      </button>\n",
              "      \n",
              "  <style>\n",
              "    .colab-df-container {\n",
              "      display:flex;\n",
              "      flex-wrap:wrap;\n",
              "      gap: 12px;\n",
              "    }\n",
              "\n",
              "    .colab-df-convert {\n",
              "      background-color: #E8F0FE;\n",
              "      border: none;\n",
              "      border-radius: 50%;\n",
              "      cursor: pointer;\n",
              "      display: none;\n",
              "      fill: #1967D2;\n",
              "      height: 32px;\n",
              "      padding: 0 0 0 0;\n",
              "      width: 32px;\n",
              "    }\n",
              "\n",
              "    .colab-df-convert:hover {\n",
              "      background-color: #E2EBFA;\n",
              "      box-shadow: 0px 1px 2px rgba(60, 64, 67, 0.3), 0px 1px 3px 1px rgba(60, 64, 67, 0.15);\n",
              "      fill: #174EA6;\n",
              "    }\n",
              "\n",
              "    [theme=dark] .colab-df-convert {\n",
              "      background-color: #3B4455;\n",
              "      fill: #D2E3FC;\n",
              "    }\n",
              "\n",
              "    [theme=dark] .colab-df-convert:hover {\n",
              "      background-color: #434B5C;\n",
              "      box-shadow: 0px 1px 3px 1px rgba(0, 0, 0, 0.15);\n",
              "      filter: drop-shadow(0px 1px 2px rgba(0, 0, 0, 0.3));\n",
              "      fill: #FFFFFF;\n",
              "    }\n",
              "  </style>\n",
              "\n",
              "      <script>\n",
              "        const buttonEl =\n",
              "          document.querySelector('#df-32c66fe7-73e5-4ff9-b92e-74e41bb89b32 button.colab-df-convert');\n",
              "        buttonEl.style.display =\n",
              "          google.colab.kernel.accessAllowed ? 'block' : 'none';\n",
              "\n",
              "        async function convertToInteractive(key) {\n",
              "          const element = document.querySelector('#df-32c66fe7-73e5-4ff9-b92e-74e41bb89b32');\n",
              "          const dataTable =\n",
              "            await google.colab.kernel.invokeFunction('convertToInteractive',\n",
              "                                                     [key], {});\n",
              "          if (!dataTable) return;\n",
              "\n",
              "          const docLinkHtml = 'Like what you see? Visit the ' +\n",
              "            '<a target=\"_blank\" href=https://colab.research.google.com/notebooks/data_table.ipynb>data table notebook</a>'\n",
              "            + ' to learn more about interactive tables.';\n",
              "          element.innerHTML = '';\n",
              "          dataTable['output_type'] = 'display_data';\n",
              "          await google.colab.output.renderOutput(dataTable, element);\n",
              "          const docLink = document.createElement('div');\n",
              "          docLink.innerHTML = docLinkHtml;\n",
              "          element.appendChild(docLink);\n",
              "        }\n",
              "      </script>\n",
              "    </div>\n",
              "  </div>\n",
              "  "
            ]
          },
          "metadata": {},
          "execution_count": 10
        }
      ]
    },
    {
      "cell_type": "code",
      "source": [
        "df = df.drop(\"id\", axis=1)\n",
        "df = df.drop(df.columns[-1], axis=1)\n",
        "df"
      ],
      "metadata": {
        "colab": {
          "base_uri": "https://localhost:8080/",
          "height": 505
        },
        "id": "weCyeR-bjhaD",
        "outputId": "ae70d1dd-b452-49ee-d560-bef4e769aaab"
      },
      "execution_count": 11,
      "outputs": [
        {
          "output_type": "execute_result",
          "data": {
            "text/plain": [
              "     diagnosis  radius_1ean  texture_1ean  peri1eter_1ean  area_1ean  \\\n",
              "0            1        17.99         10.38          122.80     1001.0   \n",
              "1            1        20.57         17.77          132.90     1326.0   \n",
              "2            1        19.69         21.25          130.00     1203.0   \n",
              "3            1        11.42         20.38           77.58      386.1   \n",
              "4            1        20.29         14.34          135.10     1297.0   \n",
              "..         ...          ...           ...             ...        ...   \n",
              "564          1        21.56         22.39          142.00     1479.0   \n",
              "565          1        20.13         28.25          131.20     1261.0   \n",
              "566          1        16.60         28.08          108.30      858.1   \n",
              "567          1        20.60         29.33          140.10     1265.0   \n",
              "568          0         7.76         24.54           47.92      181.0   \n",
              "\n",
              "     s1oothness_1ean  co1pactness_1ean  concavity_1ean  concave points_1ean  \\\n",
              "0            0.11840           0.27760         0.30010              0.14710   \n",
              "1            0.08474           0.07864         0.08690              0.07017   \n",
              "2            0.10960           0.15990         0.19740              0.12790   \n",
              "3            0.14250           0.28390         0.24140              0.10520   \n",
              "4            0.10030           0.13280         0.19800              0.10430   \n",
              "..               ...               ...             ...                  ...   \n",
              "564          0.11100           0.11590         0.24390              0.13890   \n",
              "565          0.09780           0.10340         0.14400              0.09791   \n",
              "566          0.08455           0.10230         0.09251              0.05302   \n",
              "567          0.11780           0.27700         0.35140              0.15200   \n",
              "568          0.05263           0.04362         0.00000              0.00000   \n",
              "\n",
              "     sy11etry_1ean  ...  radius_worst  texture_worst  peri1eter_worst  \\\n",
              "0           0.2419  ...        25.380          17.33           184.60   \n",
              "1           0.1812  ...        24.990          23.41           158.80   \n",
              "2           0.2069  ...        23.570          25.53           152.50   \n",
              "3           0.2597  ...        14.910          26.50            98.87   \n",
              "4           0.1809  ...        22.540          16.67           152.20   \n",
              "..             ...  ...           ...            ...              ...   \n",
              "564         0.1726  ...        25.450          26.40           166.10   \n",
              "565         0.1752  ...        23.690          38.25           155.00   \n",
              "566         0.1590  ...        18.980          34.12           126.70   \n",
              "567         0.2397  ...        25.740          39.42           184.60   \n",
              "568         0.1587  ...         9.456          30.37            59.16   \n",
              "\n",
              "     area_worst  s1oothness_worst  co1pactness_worst  concavity_worst  \\\n",
              "0        2019.0           0.16220            0.66560           0.7119   \n",
              "1        1956.0           0.12380            0.18660           0.2416   \n",
              "2        1709.0           0.14440            0.42450           0.4504   \n",
              "3         567.7           0.20980            0.86630           0.6869   \n",
              "4        1575.0           0.13740            0.20500           0.4000   \n",
              "..          ...               ...                ...              ...   \n",
              "564      2027.0           0.14100            0.21130           0.4107   \n",
              "565      1731.0           0.11660            0.19220           0.3215   \n",
              "566      1124.0           0.11390            0.30940           0.3403   \n",
              "567      1821.0           0.16500            0.86810           0.9387   \n",
              "568       268.6           0.08996            0.06444           0.0000   \n",
              "\n",
              "     concave points_worst  sy11etry_worst  fractal_di1ension_worst  \n",
              "0                  0.2654          0.4601                  0.11890  \n",
              "1                  0.1860          0.2750                  0.08902  \n",
              "2                  0.2430          0.3613                  0.08758  \n",
              "3                  0.2575          0.6638                  0.17300  \n",
              "4                  0.1625          0.2364                  0.07678  \n",
              "..                    ...             ...                      ...  \n",
              "564                0.2216          0.2060                  0.07115  \n",
              "565                0.1628          0.2572                  0.06637  \n",
              "566                0.1418          0.2218                  0.07820  \n",
              "567                0.2650          0.4087                  0.12400  \n",
              "568                0.0000          0.2871                  0.07039  \n",
              "\n",
              "[569 rows x 31 columns]"
            ],
            "text/html": [
              "\n",
              "  <div id=\"df-256f46f7-b2b6-4b2f-a0db-a10dab0f1aaa\">\n",
              "    <div class=\"colab-df-container\">\n",
              "      <div>\n",
              "<style scoped>\n",
              "    .dataframe tbody tr th:only-of-type {\n",
              "        vertical-align: middle;\n",
              "    }\n",
              "\n",
              "    .dataframe tbody tr th {\n",
              "        vertical-align: top;\n",
              "    }\n",
              "\n",
              "    .dataframe thead th {\n",
              "        text-align: right;\n",
              "    }\n",
              "</style>\n",
              "<table border=\"1\" class=\"dataframe\">\n",
              "  <thead>\n",
              "    <tr style=\"text-align: right;\">\n",
              "      <th></th>\n",
              "      <th>diagnosis</th>\n",
              "      <th>radius_1ean</th>\n",
              "      <th>texture_1ean</th>\n",
              "      <th>peri1eter_1ean</th>\n",
              "      <th>area_1ean</th>\n",
              "      <th>s1oothness_1ean</th>\n",
              "      <th>co1pactness_1ean</th>\n",
              "      <th>concavity_1ean</th>\n",
              "      <th>concave points_1ean</th>\n",
              "      <th>sy11etry_1ean</th>\n",
              "      <th>...</th>\n",
              "      <th>radius_worst</th>\n",
              "      <th>texture_worst</th>\n",
              "      <th>peri1eter_worst</th>\n",
              "      <th>area_worst</th>\n",
              "      <th>s1oothness_worst</th>\n",
              "      <th>co1pactness_worst</th>\n",
              "      <th>concavity_worst</th>\n",
              "      <th>concave points_worst</th>\n",
              "      <th>sy11etry_worst</th>\n",
              "      <th>fractal_di1ension_worst</th>\n",
              "    </tr>\n",
              "  </thead>\n",
              "  <tbody>\n",
              "    <tr>\n",
              "      <th>0</th>\n",
              "      <td>1</td>\n",
              "      <td>17.99</td>\n",
              "      <td>10.38</td>\n",
              "      <td>122.80</td>\n",
              "      <td>1001.0</td>\n",
              "      <td>0.11840</td>\n",
              "      <td>0.27760</td>\n",
              "      <td>0.30010</td>\n",
              "      <td>0.14710</td>\n",
              "      <td>0.2419</td>\n",
              "      <td>...</td>\n",
              "      <td>25.380</td>\n",
              "      <td>17.33</td>\n",
              "      <td>184.60</td>\n",
              "      <td>2019.0</td>\n",
              "      <td>0.16220</td>\n",
              "      <td>0.66560</td>\n",
              "      <td>0.7119</td>\n",
              "      <td>0.2654</td>\n",
              "      <td>0.4601</td>\n",
              "      <td>0.11890</td>\n",
              "    </tr>\n",
              "    <tr>\n",
              "      <th>1</th>\n",
              "      <td>1</td>\n",
              "      <td>20.57</td>\n",
              "      <td>17.77</td>\n",
              "      <td>132.90</td>\n",
              "      <td>1326.0</td>\n",
              "      <td>0.08474</td>\n",
              "      <td>0.07864</td>\n",
              "      <td>0.08690</td>\n",
              "      <td>0.07017</td>\n",
              "      <td>0.1812</td>\n",
              "      <td>...</td>\n",
              "      <td>24.990</td>\n",
              "      <td>23.41</td>\n",
              "      <td>158.80</td>\n",
              "      <td>1956.0</td>\n",
              "      <td>0.12380</td>\n",
              "      <td>0.18660</td>\n",
              "      <td>0.2416</td>\n",
              "      <td>0.1860</td>\n",
              "      <td>0.2750</td>\n",
              "      <td>0.08902</td>\n",
              "    </tr>\n",
              "    <tr>\n",
              "      <th>2</th>\n",
              "      <td>1</td>\n",
              "      <td>19.69</td>\n",
              "      <td>21.25</td>\n",
              "      <td>130.00</td>\n",
              "      <td>1203.0</td>\n",
              "      <td>0.10960</td>\n",
              "      <td>0.15990</td>\n",
              "      <td>0.19740</td>\n",
              "      <td>0.12790</td>\n",
              "      <td>0.2069</td>\n",
              "      <td>...</td>\n",
              "      <td>23.570</td>\n",
              "      <td>25.53</td>\n",
              "      <td>152.50</td>\n",
              "      <td>1709.0</td>\n",
              "      <td>0.14440</td>\n",
              "      <td>0.42450</td>\n",
              "      <td>0.4504</td>\n",
              "      <td>0.2430</td>\n",
              "      <td>0.3613</td>\n",
              "      <td>0.08758</td>\n",
              "    </tr>\n",
              "    <tr>\n",
              "      <th>3</th>\n",
              "      <td>1</td>\n",
              "      <td>11.42</td>\n",
              "      <td>20.38</td>\n",
              "      <td>77.58</td>\n",
              "      <td>386.1</td>\n",
              "      <td>0.14250</td>\n",
              "      <td>0.28390</td>\n",
              "      <td>0.24140</td>\n",
              "      <td>0.10520</td>\n",
              "      <td>0.2597</td>\n",
              "      <td>...</td>\n",
              "      <td>14.910</td>\n",
              "      <td>26.50</td>\n",
              "      <td>98.87</td>\n",
              "      <td>567.7</td>\n",
              "      <td>0.20980</td>\n",
              "      <td>0.86630</td>\n",
              "      <td>0.6869</td>\n",
              "      <td>0.2575</td>\n",
              "      <td>0.6638</td>\n",
              "      <td>0.17300</td>\n",
              "    </tr>\n",
              "    <tr>\n",
              "      <th>4</th>\n",
              "      <td>1</td>\n",
              "      <td>20.29</td>\n",
              "      <td>14.34</td>\n",
              "      <td>135.10</td>\n",
              "      <td>1297.0</td>\n",
              "      <td>0.10030</td>\n",
              "      <td>0.13280</td>\n",
              "      <td>0.19800</td>\n",
              "      <td>0.10430</td>\n",
              "      <td>0.1809</td>\n",
              "      <td>...</td>\n",
              "      <td>22.540</td>\n",
              "      <td>16.67</td>\n",
              "      <td>152.20</td>\n",
              "      <td>1575.0</td>\n",
              "      <td>0.13740</td>\n",
              "      <td>0.20500</td>\n",
              "      <td>0.4000</td>\n",
              "      <td>0.1625</td>\n",
              "      <td>0.2364</td>\n",
              "      <td>0.07678</td>\n",
              "    </tr>\n",
              "    <tr>\n",
              "      <th>...</th>\n",
              "      <td>...</td>\n",
              "      <td>...</td>\n",
              "      <td>...</td>\n",
              "      <td>...</td>\n",
              "      <td>...</td>\n",
              "      <td>...</td>\n",
              "      <td>...</td>\n",
              "      <td>...</td>\n",
              "      <td>...</td>\n",
              "      <td>...</td>\n",
              "      <td>...</td>\n",
              "      <td>...</td>\n",
              "      <td>...</td>\n",
              "      <td>...</td>\n",
              "      <td>...</td>\n",
              "      <td>...</td>\n",
              "      <td>...</td>\n",
              "      <td>...</td>\n",
              "      <td>...</td>\n",
              "      <td>...</td>\n",
              "      <td>...</td>\n",
              "    </tr>\n",
              "    <tr>\n",
              "      <th>564</th>\n",
              "      <td>1</td>\n",
              "      <td>21.56</td>\n",
              "      <td>22.39</td>\n",
              "      <td>142.00</td>\n",
              "      <td>1479.0</td>\n",
              "      <td>0.11100</td>\n",
              "      <td>0.11590</td>\n",
              "      <td>0.24390</td>\n",
              "      <td>0.13890</td>\n",
              "      <td>0.1726</td>\n",
              "      <td>...</td>\n",
              "      <td>25.450</td>\n",
              "      <td>26.40</td>\n",
              "      <td>166.10</td>\n",
              "      <td>2027.0</td>\n",
              "      <td>0.14100</td>\n",
              "      <td>0.21130</td>\n",
              "      <td>0.4107</td>\n",
              "      <td>0.2216</td>\n",
              "      <td>0.2060</td>\n",
              "      <td>0.07115</td>\n",
              "    </tr>\n",
              "    <tr>\n",
              "      <th>565</th>\n",
              "      <td>1</td>\n",
              "      <td>20.13</td>\n",
              "      <td>28.25</td>\n",
              "      <td>131.20</td>\n",
              "      <td>1261.0</td>\n",
              "      <td>0.09780</td>\n",
              "      <td>0.10340</td>\n",
              "      <td>0.14400</td>\n",
              "      <td>0.09791</td>\n",
              "      <td>0.1752</td>\n",
              "      <td>...</td>\n",
              "      <td>23.690</td>\n",
              "      <td>38.25</td>\n",
              "      <td>155.00</td>\n",
              "      <td>1731.0</td>\n",
              "      <td>0.11660</td>\n",
              "      <td>0.19220</td>\n",
              "      <td>0.3215</td>\n",
              "      <td>0.1628</td>\n",
              "      <td>0.2572</td>\n",
              "      <td>0.06637</td>\n",
              "    </tr>\n",
              "    <tr>\n",
              "      <th>566</th>\n",
              "      <td>1</td>\n",
              "      <td>16.60</td>\n",
              "      <td>28.08</td>\n",
              "      <td>108.30</td>\n",
              "      <td>858.1</td>\n",
              "      <td>0.08455</td>\n",
              "      <td>0.10230</td>\n",
              "      <td>0.09251</td>\n",
              "      <td>0.05302</td>\n",
              "      <td>0.1590</td>\n",
              "      <td>...</td>\n",
              "      <td>18.980</td>\n",
              "      <td>34.12</td>\n",
              "      <td>126.70</td>\n",
              "      <td>1124.0</td>\n",
              "      <td>0.11390</td>\n",
              "      <td>0.30940</td>\n",
              "      <td>0.3403</td>\n",
              "      <td>0.1418</td>\n",
              "      <td>0.2218</td>\n",
              "      <td>0.07820</td>\n",
              "    </tr>\n",
              "    <tr>\n",
              "      <th>567</th>\n",
              "      <td>1</td>\n",
              "      <td>20.60</td>\n",
              "      <td>29.33</td>\n",
              "      <td>140.10</td>\n",
              "      <td>1265.0</td>\n",
              "      <td>0.11780</td>\n",
              "      <td>0.27700</td>\n",
              "      <td>0.35140</td>\n",
              "      <td>0.15200</td>\n",
              "      <td>0.2397</td>\n",
              "      <td>...</td>\n",
              "      <td>25.740</td>\n",
              "      <td>39.42</td>\n",
              "      <td>184.60</td>\n",
              "      <td>1821.0</td>\n",
              "      <td>0.16500</td>\n",
              "      <td>0.86810</td>\n",
              "      <td>0.9387</td>\n",
              "      <td>0.2650</td>\n",
              "      <td>0.4087</td>\n",
              "      <td>0.12400</td>\n",
              "    </tr>\n",
              "    <tr>\n",
              "      <th>568</th>\n",
              "      <td>0</td>\n",
              "      <td>7.76</td>\n",
              "      <td>24.54</td>\n",
              "      <td>47.92</td>\n",
              "      <td>181.0</td>\n",
              "      <td>0.05263</td>\n",
              "      <td>0.04362</td>\n",
              "      <td>0.00000</td>\n",
              "      <td>0.00000</td>\n",
              "      <td>0.1587</td>\n",
              "      <td>...</td>\n",
              "      <td>9.456</td>\n",
              "      <td>30.37</td>\n",
              "      <td>59.16</td>\n",
              "      <td>268.6</td>\n",
              "      <td>0.08996</td>\n",
              "      <td>0.06444</td>\n",
              "      <td>0.0000</td>\n",
              "      <td>0.0000</td>\n",
              "      <td>0.2871</td>\n",
              "      <td>0.07039</td>\n",
              "    </tr>\n",
              "  </tbody>\n",
              "</table>\n",
              "<p>569 rows × 31 columns</p>\n",
              "</div>\n",
              "      <button class=\"colab-df-convert\" onclick=\"convertToInteractive('df-256f46f7-b2b6-4b2f-a0db-a10dab0f1aaa')\"\n",
              "              title=\"Convert this dataframe to an interactive table.\"\n",
              "              style=\"display:none;\">\n",
              "        \n",
              "  <svg xmlns=\"http://www.w3.org/2000/svg\" height=\"24px\"viewBox=\"0 0 24 24\"\n",
              "       width=\"24px\">\n",
              "    <path d=\"M0 0h24v24H0V0z\" fill=\"none\"/>\n",
              "    <path d=\"M18.56 5.44l.94 2.06.94-2.06 2.06-.94-2.06-.94-.94-2.06-.94 2.06-2.06.94zm-11 1L8.5 8.5l.94-2.06 2.06-.94-2.06-.94L8.5 2.5l-.94 2.06-2.06.94zm10 10l.94 2.06.94-2.06 2.06-.94-2.06-.94-.94-2.06-.94 2.06-2.06.94z\"/><path d=\"M17.41 7.96l-1.37-1.37c-.4-.4-.92-.59-1.43-.59-.52 0-1.04.2-1.43.59L10.3 9.45l-7.72 7.72c-.78.78-.78 2.05 0 2.83L4 21.41c.39.39.9.59 1.41.59.51 0 1.02-.2 1.41-.59l7.78-7.78 2.81-2.81c.8-.78.8-2.07 0-2.86zM5.41 20L4 18.59l7.72-7.72 1.47 1.35L5.41 20z\"/>\n",
              "  </svg>\n",
              "      </button>\n",
              "      \n",
              "  <style>\n",
              "    .colab-df-container {\n",
              "      display:flex;\n",
              "      flex-wrap:wrap;\n",
              "      gap: 12px;\n",
              "    }\n",
              "\n",
              "    .colab-df-convert {\n",
              "      background-color: #E8F0FE;\n",
              "      border: none;\n",
              "      border-radius: 50%;\n",
              "      cursor: pointer;\n",
              "      display: none;\n",
              "      fill: #1967D2;\n",
              "      height: 32px;\n",
              "      padding: 0 0 0 0;\n",
              "      width: 32px;\n",
              "    }\n",
              "\n",
              "    .colab-df-convert:hover {\n",
              "      background-color: #E2EBFA;\n",
              "      box-shadow: 0px 1px 2px rgba(60, 64, 67, 0.3), 0px 1px 3px 1px rgba(60, 64, 67, 0.15);\n",
              "      fill: #174EA6;\n",
              "    }\n",
              "\n",
              "    [theme=dark] .colab-df-convert {\n",
              "      background-color: #3B4455;\n",
              "      fill: #D2E3FC;\n",
              "    }\n",
              "\n",
              "    [theme=dark] .colab-df-convert:hover {\n",
              "      background-color: #434B5C;\n",
              "      box-shadow: 0px 1px 3px 1px rgba(0, 0, 0, 0.15);\n",
              "      filter: drop-shadow(0px 1px 2px rgba(0, 0, 0, 0.3));\n",
              "      fill: #FFFFFF;\n",
              "    }\n",
              "  </style>\n",
              "\n",
              "      <script>\n",
              "        const buttonEl =\n",
              "          document.querySelector('#df-256f46f7-b2b6-4b2f-a0db-a10dab0f1aaa button.colab-df-convert');\n",
              "        buttonEl.style.display =\n",
              "          google.colab.kernel.accessAllowed ? 'block' : 'none';\n",
              "\n",
              "        async function convertToInteractive(key) {\n",
              "          const element = document.querySelector('#df-256f46f7-b2b6-4b2f-a0db-a10dab0f1aaa');\n",
              "          const dataTable =\n",
              "            await google.colab.kernel.invokeFunction('convertToInteractive',\n",
              "                                                     [key], {});\n",
              "          if (!dataTable) return;\n",
              "\n",
              "          const docLinkHtml = 'Like what you see? Visit the ' +\n",
              "            '<a target=\"_blank\" href=https://colab.research.google.com/notebooks/data_table.ipynb>data table notebook</a>'\n",
              "            + ' to learn more about interactive tables.';\n",
              "          element.innerHTML = '';\n",
              "          dataTable['output_type'] = 'display_data';\n",
              "          await google.colab.output.renderOutput(dataTable, element);\n",
              "          const docLink = document.createElement('div');\n",
              "          docLink.innerHTML = docLinkHtml;\n",
              "          element.appendChild(docLink);\n",
              "        }\n",
              "      </script>\n",
              "    </div>\n",
              "  </div>\n",
              "  "
            ]
          },
          "metadata": {},
          "execution_count": 11
        }
      ]
    },
    {
      "cell_type": "code",
      "source": [
        "df.columns.values"
      ],
      "metadata": {
        "colab": {
          "base_uri": "https://localhost:8080/"
        },
        "id": "fJDOWbLNkLDK",
        "outputId": "ee153804-da6d-4bd2-b7dd-54df725a0fef"
      },
      "execution_count": 12,
      "outputs": [
        {
          "output_type": "execute_result",
          "data": {
            "text/plain": [
              "array(['diagnosis', 'radius_1ean', 'texture_1ean', 'peri1eter_1ean',\n",
              "       'area_1ean', 's1oothness_1ean', 'co1pactness_1ean',\n",
              "       'concavity_1ean', 'concave points_1ean', 'sy11etry_1ean',\n",
              "       'fractal_di1ension_1ean', 'radius_se', 'texture_se',\n",
              "       'peri1eter_se', 'area_se', 's1oothness_se', 'co1pactness_se',\n",
              "       'concavity_se', 'concave points_se', 'sy11etry_se',\n",
              "       'fractal_di1ension_se', 'radius_worst', 'texture_worst',\n",
              "       'peri1eter_worst', 'area_worst', 's1oothness_worst',\n",
              "       'co1pactness_worst', 'concavity_worst', 'concave points_worst',\n",
              "       'sy11etry_worst', 'fractal_di1ension_worst'], dtype=object)"
            ]
          },
          "metadata": {},
          "execution_count": 12
        }
      ]
    },
    {
      "cell_type": "code",
      "source": [
        "X = df.drop(\"diagnosis\", axis=1) # all columns except diagnosis\n",
        "y = df[\"diagnosis\"] # only diagnosis column"
      ],
      "metadata": {
        "id": "o532w6_Wl6I1"
      },
      "execution_count": 27,
      "outputs": []
    },
    {
      "cell_type": "code",
      "source": [
        "print(X.shape[1])\n",
        "print(df.shape[1])"
      ],
      "metadata": {
        "colab": {
          "base_uri": "https://localhost:8080/"
        },
        "id": "PooKbOnOoiiM",
        "outputId": "5d088483-ce34-4f18-e4a5-32da4b24fa60"
      },
      "execution_count": 85,
      "outputs": [
        {
          "output_type": "stream",
          "name": "stdout",
          "text": [
            "30\n",
            "31\n"
          ]
        }
      ]
    },
    {
      "cell_type": "code",
      "source": [
        "print(type(X))"
      ],
      "metadata": {
        "colab": {
          "base_uri": "https://localhost:8080/"
        },
        "id": "9eiY5PR2l88X",
        "outputId": "fac4b32b-b474-4f4d-d707-0280ecda0e1a"
      },
      "execution_count": 28,
      "outputs": [
        {
          "output_type": "stream",
          "name": "stdout",
          "text": [
            "<class 'pandas.core.frame.DataFrame'>\n"
          ]
        }
      ]
    },
    {
      "cell_type": "code",
      "source": [
        "train_data, test_data, train_labels, test_labels = train_test_split(X, y, \n",
        "                       train_size=0.7,\n",
        "                       test_size=0.3,\n",
        "                       random_state=42,\n",
        "                       stratify=y)"
      ],
      "metadata": {
        "id": "5Ykz2RHNkR3h"
      },
      "execution_count": 30,
      "outputs": []
    },
    {
      "cell_type": "code",
      "source": [
        "print('All:', np.bincount(y) / float(len(y)) * 100.0)\n",
        "print('Training:', np.bincount(train_labels) / float(len(train_labels)) * 100.0)\n",
        "print('Test:', np.bincount(test_labels) / float(len(test_labels)) * 100.0)\n",
        "     "
      ],
      "metadata": {
        "colab": {
          "base_uri": "https://localhost:8080/"
        },
        "id": "k3MZg_s-mHd9",
        "outputId": "c5503789-3eaa-4bf8-8c00-4ccce5fa90b6"
      },
      "execution_count": 31,
      "outputs": [
        {
          "output_type": "stream",
          "name": "stdout",
          "text": [
            "All: [62.74165202 37.25834798]\n",
            "Training: [62.81407035 37.18592965]\n",
            "Test: [62.57309942 37.42690058]\n"
          ]
        }
      ]
    },
    {
      "cell_type": "code",
      "source": [
        "print('Train date:', len(X))\n",
        "print('Train date:', len(y))"
      ],
      "metadata": {
        "colab": {
          "base_uri": "https://localhost:8080/"
        },
        "id": "H2wPlS38mdDp",
        "outputId": "84b57d22-bda8-4ee8-93e7-14a6daacec33"
      },
      "execution_count": 34,
      "outputs": [
        {
          "output_type": "stream",
          "name": "stdout",
          "text": [
            "Train date: 569\n",
            "Train date: 569\n"
          ]
        }
      ]
    },
    {
      "cell_type": "code",
      "source": [
        "print('Train date:', len(train_data))\n",
        "print('Test date:', len(test_data))"
      ],
      "metadata": {
        "colab": {
          "base_uri": "https://localhost:8080/"
        },
        "id": "2wAZr51nmZS7",
        "outputId": "219fa415-f9ef-40ef-a40a-2bd042074a97"
      },
      "execution_count": 35,
      "outputs": [
        {
          "output_type": "stream",
          "name": "stdout",
          "text": [
            "Train date: 398\n",
            "Test date: 171\n"
          ]
        }
      ]
    },
    {
      "cell_type": "markdown",
      "source": [
        "\n",
        "\n",
        "---\n",
        "\n"
      ],
      "metadata": {
        "id": "dibfAnNYmnuW"
      }
    },
    {
      "cell_type": "markdown",
      "source": [
        "**Neural network with 2 hidden layers and 1 output layer**"
      ],
      "metadata": {
        "id": "CV9KTQfamrAK"
      }
    },
    {
      "cell_type": "code",
      "source": [
        "# Import the sequential model and dense layer\n",
        "from tensorflow.keras.models import Sequential\n",
        "from tensorflow.keras.layers import Dense"
      ],
      "metadata": {
        "id": "WfNi7msFmlme"
      },
      "execution_count": 36,
      "outputs": []
    },
    {
      "cell_type": "code",
      "source": [
        "# Create a sequential model\n",
        "model1 = Sequential()"
      ],
      "metadata": {
        "id": "0WV_iayZmpUk"
      },
      "execution_count": 69,
      "outputs": []
    },
    {
      "cell_type": "code",
      "source": [
        "# neural network architecture\n",
        "model1 = Sequential()\n",
        "model1.add(Dense(12, input_dim=30, activation='relu'))\n",
        "model1.add(Dense(8, activation='relu'))\n",
        "model1.add(Dense(1, activation='sigmoid'))\n"
      ],
      "metadata": {
        "id": "rxCfBNoTmvh5"
      },
      "execution_count": 70,
      "outputs": []
    },
    {
      "cell_type": "code",
      "source": [
        "# Compile your model\n",
        "model1.compile(loss='binary_crossentropy', optimizer='sgd', metrics=['accuracy'])"
      ],
      "metadata": {
        "id": "c69vL8Ucmxgs"
      },
      "execution_count": 86,
      "outputs": []
    },
    {
      "cell_type": "code",
      "source": [
        "# Display a summary of your model\n",
        "model1.summary()"
      ],
      "metadata": {
        "colab": {
          "base_uri": "https://localhost:8080/"
        },
        "id": "Pij0JgyBmzY6",
        "outputId": "42e91daa-08b9-4ef7-9e07-9b43f5976f19"
      },
      "execution_count": 87,
      "outputs": [
        {
          "output_type": "stream",
          "name": "stdout",
          "text": [
            "Model: \"sequential_8\"\n",
            "_________________________________________________________________\n",
            " Layer (type)                Output Shape              Param #   \n",
            "=================================================================\n",
            " dense_15 (Dense)            (None, 12)                372       \n",
            "                                                                 \n",
            " dense_16 (Dense)            (None, 8)                 104       \n",
            "                                                                 \n",
            " dense_17 (Dense)            (None, 1)                 9         \n",
            "                                                                 \n",
            "=================================================================\n",
            "Total params: 485\n",
            "Trainable params: 485\n",
            "Non-trainable params: 0\n",
            "_________________________________________________________________\n"
          ]
        }
      ]
    },
    {
      "cell_type": "code",
      "source": [
        "# Train your model for 100 epochs\n",
        "history_model1 = model1.fit(train_data, train_labels, validation_data=(test_data, test_labels), epochs = 100)"
      ],
      "metadata": {
        "colab": {
          "base_uri": "https://localhost:8080/"
        },
        "id": "zWeBa9okm134",
        "outputId": "d7bcf558-9011-431d-83c4-a3e5b4a58488"
      },
      "execution_count": 88,
      "outputs": [
        {
          "output_type": "stream",
          "name": "stdout",
          "text": [
            "Epoch 1/100\n",
            "13/13 [==============================] - 1s 23ms/step - loss: 0.6600 - accuracy: 0.6281 - val_loss: 0.6612 - val_accuracy: 0.6257\n",
            "Epoch 2/100\n",
            "13/13 [==============================] - 0s 8ms/step - loss: 0.6600 - accuracy: 0.6281 - val_loss: 0.6612 - val_accuracy: 0.6257\n",
            "Epoch 3/100\n",
            "13/13 [==============================] - 0s 8ms/step - loss: 0.6600 - accuracy: 0.6281 - val_loss: 0.6612 - val_accuracy: 0.6257\n",
            "Epoch 4/100\n",
            "13/13 [==============================] - 0s 10ms/step - loss: 0.6600 - accuracy: 0.6281 - val_loss: 0.6612 - val_accuracy: 0.6257\n",
            "Epoch 5/100\n",
            "13/13 [==============================] - 0s 7ms/step - loss: 0.6600 - accuracy: 0.6281 - val_loss: 0.6612 - val_accuracy: 0.6257\n",
            "Epoch 6/100\n",
            "13/13 [==============================] - 0s 7ms/step - loss: 0.6600 - accuracy: 0.6281 - val_loss: 0.6612 - val_accuracy: 0.6257\n",
            "Epoch 7/100\n",
            "13/13 [==============================] - 0s 7ms/step - loss: 0.6600 - accuracy: 0.6281 - val_loss: 0.6612 - val_accuracy: 0.6257\n",
            "Epoch 8/100\n",
            "13/13 [==============================] - 0s 8ms/step - loss: 0.6600 - accuracy: 0.6281 - val_loss: 0.6612 - val_accuracy: 0.6257\n",
            "Epoch 9/100\n",
            "13/13 [==============================] - 0s 7ms/step - loss: 0.6601 - accuracy: 0.6281 - val_loss: 0.6612 - val_accuracy: 0.6257\n",
            "Epoch 10/100\n",
            "13/13 [==============================] - 0s 7ms/step - loss: 0.6601 - accuracy: 0.6281 - val_loss: 0.6612 - val_accuracy: 0.6257\n",
            "Epoch 11/100\n",
            "13/13 [==============================] - 0s 7ms/step - loss: 0.6600 - accuracy: 0.6281 - val_loss: 0.6612 - val_accuracy: 0.6257\n",
            "Epoch 12/100\n",
            "13/13 [==============================] - 0s 7ms/step - loss: 0.6600 - accuracy: 0.6281 - val_loss: 0.6612 - val_accuracy: 0.6257\n",
            "Epoch 13/100\n",
            "13/13 [==============================] - 0s 8ms/step - loss: 0.6600 - accuracy: 0.6281 - val_loss: 0.6612 - val_accuracy: 0.6257\n",
            "Epoch 14/100\n",
            "13/13 [==============================] - 0s 9ms/step - loss: 0.6600 - accuracy: 0.6281 - val_loss: 0.6612 - val_accuracy: 0.6257\n",
            "Epoch 15/100\n",
            "13/13 [==============================] - 0s 8ms/step - loss: 0.6600 - accuracy: 0.6281 - val_loss: 0.6612 - val_accuracy: 0.6257\n",
            "Epoch 16/100\n",
            "13/13 [==============================] - 0s 7ms/step - loss: 0.6600 - accuracy: 0.6281 - val_loss: 0.6612 - val_accuracy: 0.6257\n",
            "Epoch 17/100\n",
            "13/13 [==============================] - 0s 8ms/step - loss: 0.6600 - accuracy: 0.6281 - val_loss: 0.6612 - val_accuracy: 0.6257\n",
            "Epoch 18/100\n",
            "13/13 [==============================] - 0s 7ms/step - loss: 0.6600 - accuracy: 0.6281 - val_loss: 0.6612 - val_accuracy: 0.6257\n",
            "Epoch 19/100\n",
            "13/13 [==============================] - 0s 7ms/step - loss: 0.6600 - accuracy: 0.6281 - val_loss: 0.6612 - val_accuracy: 0.6257\n",
            "Epoch 20/100\n",
            "13/13 [==============================] - 0s 7ms/step - loss: 0.6600 - accuracy: 0.6281 - val_loss: 0.6612 - val_accuracy: 0.6257\n",
            "Epoch 21/100\n",
            "13/13 [==============================] - 0s 7ms/step - loss: 0.6600 - accuracy: 0.6281 - val_loss: 0.6612 - val_accuracy: 0.6257\n",
            "Epoch 22/100\n",
            "13/13 [==============================] - 0s 7ms/step - loss: 0.6600 - accuracy: 0.6281 - val_loss: 0.6612 - val_accuracy: 0.6257\n",
            "Epoch 23/100\n",
            "13/13 [==============================] - 0s 8ms/step - loss: 0.6600 - accuracy: 0.6281 - val_loss: 0.6612 - val_accuracy: 0.6257\n",
            "Epoch 24/100\n",
            "13/13 [==============================] - 0s 8ms/step - loss: 0.6600 - accuracy: 0.6281 - val_loss: 0.6612 - val_accuracy: 0.6257\n",
            "Epoch 25/100\n",
            "13/13 [==============================] - 0s 7ms/step - loss: 0.6600 - accuracy: 0.6281 - val_loss: 0.6612 - val_accuracy: 0.6257\n",
            "Epoch 26/100\n",
            "13/13 [==============================] - 0s 8ms/step - loss: 0.6600 - accuracy: 0.6281 - val_loss: 0.6612 - val_accuracy: 0.6257\n",
            "Epoch 27/100\n",
            "13/13 [==============================] - 0s 7ms/step - loss: 0.6600 - accuracy: 0.6281 - val_loss: 0.6612 - val_accuracy: 0.6257\n",
            "Epoch 28/100\n",
            "13/13 [==============================] - 0s 8ms/step - loss: 0.6600 - accuracy: 0.6281 - val_loss: 0.6612 - val_accuracy: 0.6257\n",
            "Epoch 29/100\n",
            "13/13 [==============================] - 0s 9ms/step - loss: 0.6600 - accuracy: 0.6281 - val_loss: 0.6612 - val_accuracy: 0.6257\n",
            "Epoch 30/100\n",
            "13/13 [==============================] - 0s 8ms/step - loss: 0.6600 - accuracy: 0.6281 - val_loss: 0.6612 - val_accuracy: 0.6257\n",
            "Epoch 31/100\n",
            "13/13 [==============================] - 0s 6ms/step - loss: 0.6600 - accuracy: 0.6281 - val_loss: 0.6612 - val_accuracy: 0.6257\n",
            "Epoch 32/100\n",
            "13/13 [==============================] - 0s 7ms/step - loss: 0.6600 - accuracy: 0.6281 - val_loss: 0.6612 - val_accuracy: 0.6257\n",
            "Epoch 33/100\n",
            "13/13 [==============================] - 0s 6ms/step - loss: 0.6600 - accuracy: 0.6281 - val_loss: 0.6612 - val_accuracy: 0.6257\n",
            "Epoch 34/100\n",
            "13/13 [==============================] - 0s 7ms/step - loss: 0.6600 - accuracy: 0.6281 - val_loss: 0.6612 - val_accuracy: 0.6257\n",
            "Epoch 35/100\n",
            "13/13 [==============================] - 0s 7ms/step - loss: 0.6600 - accuracy: 0.6281 - val_loss: 0.6612 - val_accuracy: 0.6257\n",
            "Epoch 36/100\n",
            "13/13 [==============================] - 0s 7ms/step - loss: 0.6600 - accuracy: 0.6281 - val_loss: 0.6612 - val_accuracy: 0.6257\n",
            "Epoch 37/100\n",
            "13/13 [==============================] - 0s 6ms/step - loss: 0.6600 - accuracy: 0.6281 - val_loss: 0.6612 - val_accuracy: 0.6257\n",
            "Epoch 38/100\n",
            "13/13 [==============================] - 0s 6ms/step - loss: 0.6600 - accuracy: 0.6281 - val_loss: 0.6612 - val_accuracy: 0.6257\n",
            "Epoch 39/100\n",
            "13/13 [==============================] - 0s 6ms/step - loss: 0.6600 - accuracy: 0.6281 - val_loss: 0.6612 - val_accuracy: 0.6257\n",
            "Epoch 40/100\n",
            "13/13 [==============================] - 0s 6ms/step - loss: 0.6600 - accuracy: 0.6281 - val_loss: 0.6612 - val_accuracy: 0.6257\n",
            "Epoch 41/100\n",
            "13/13 [==============================] - 0s 6ms/step - loss: 0.6600 - accuracy: 0.6281 - val_loss: 0.6612 - val_accuracy: 0.6257\n",
            "Epoch 42/100\n",
            "13/13 [==============================] - 0s 6ms/step - loss: 0.6600 - accuracy: 0.6281 - val_loss: 0.6612 - val_accuracy: 0.6257\n",
            "Epoch 43/100\n",
            "13/13 [==============================] - 0s 5ms/step - loss: 0.6600 - accuracy: 0.6281 - val_loss: 0.6612 - val_accuracy: 0.6257\n",
            "Epoch 44/100\n",
            "13/13 [==============================] - 0s 5ms/step - loss: 0.6600 - accuracy: 0.6281 - val_loss: 0.6612 - val_accuracy: 0.6257\n",
            "Epoch 45/100\n",
            "13/13 [==============================] - 0s 5ms/step - loss: 0.6600 - accuracy: 0.6281 - val_loss: 0.6612 - val_accuracy: 0.6257\n",
            "Epoch 46/100\n",
            "13/13 [==============================] - 0s 5ms/step - loss: 0.6600 - accuracy: 0.6281 - val_loss: 0.6612 - val_accuracy: 0.6257\n",
            "Epoch 47/100\n",
            "13/13 [==============================] - 0s 6ms/step - loss: 0.6600 - accuracy: 0.6281 - val_loss: 0.6612 - val_accuracy: 0.6257\n",
            "Epoch 48/100\n",
            "13/13 [==============================] - 0s 5ms/step - loss: 0.6600 - accuracy: 0.6281 - val_loss: 0.6612 - val_accuracy: 0.6257\n",
            "Epoch 49/100\n",
            "13/13 [==============================] - 0s 6ms/step - loss: 0.6600 - accuracy: 0.6281 - val_loss: 0.6612 - val_accuracy: 0.6257\n",
            "Epoch 50/100\n",
            "13/13 [==============================] - 0s 6ms/step - loss: 0.6600 - accuracy: 0.6281 - val_loss: 0.6612 - val_accuracy: 0.6257\n",
            "Epoch 51/100\n",
            "13/13 [==============================] - 0s 6ms/step - loss: 0.6600 - accuracy: 0.6281 - val_loss: 0.6612 - val_accuracy: 0.6257\n",
            "Epoch 52/100\n",
            "13/13 [==============================] - 0s 6ms/step - loss: 0.6600 - accuracy: 0.6281 - val_loss: 0.6612 - val_accuracy: 0.6257\n",
            "Epoch 53/100\n",
            "13/13 [==============================] - 0s 7ms/step - loss: 0.6600 - accuracy: 0.6281 - val_loss: 0.6612 - val_accuracy: 0.6257\n",
            "Epoch 54/100\n",
            "13/13 [==============================] - 0s 6ms/step - loss: 0.6600 - accuracy: 0.6281 - val_loss: 0.6612 - val_accuracy: 0.6257\n",
            "Epoch 55/100\n",
            "13/13 [==============================] - 0s 5ms/step - loss: 0.6600 - accuracy: 0.6281 - val_loss: 0.6612 - val_accuracy: 0.6257\n",
            "Epoch 56/100\n",
            "13/13 [==============================] - 0s 7ms/step - loss: 0.6600 - accuracy: 0.6281 - val_loss: 0.6612 - val_accuracy: 0.6257\n",
            "Epoch 57/100\n",
            "13/13 [==============================] - 0s 6ms/step - loss: 0.6600 - accuracy: 0.6281 - val_loss: 0.6612 - val_accuracy: 0.6257\n",
            "Epoch 58/100\n",
            "13/13 [==============================] - 0s 5ms/step - loss: 0.6600 - accuracy: 0.6281 - val_loss: 0.6612 - val_accuracy: 0.6257\n",
            "Epoch 59/100\n",
            "13/13 [==============================] - 0s 8ms/step - loss: 0.6600 - accuracy: 0.6281 - val_loss: 0.6612 - val_accuracy: 0.6257\n",
            "Epoch 60/100\n",
            "13/13 [==============================] - 0s 6ms/step - loss: 0.6600 - accuracy: 0.6281 - val_loss: 0.6612 - val_accuracy: 0.6257\n",
            "Epoch 61/100\n",
            "13/13 [==============================] - 0s 5ms/step - loss: 0.6600 - accuracy: 0.6281 - val_loss: 0.6612 - val_accuracy: 0.6257\n",
            "Epoch 62/100\n",
            "13/13 [==============================] - 0s 5ms/step - loss: 0.6600 - accuracy: 0.6281 - val_loss: 0.6612 - val_accuracy: 0.6257\n",
            "Epoch 63/100\n",
            "13/13 [==============================] - 0s 5ms/step - loss: 0.6600 - accuracy: 0.6281 - val_loss: 0.6612 - val_accuracy: 0.6257\n",
            "Epoch 64/100\n",
            "13/13 [==============================] - 0s 5ms/step - loss: 0.6600 - accuracy: 0.6281 - val_loss: 0.6612 - val_accuracy: 0.6257\n",
            "Epoch 65/100\n",
            "13/13 [==============================] - 0s 6ms/step - loss: 0.6600 - accuracy: 0.6281 - val_loss: 0.6612 - val_accuracy: 0.6257\n",
            "Epoch 66/100\n",
            "13/13 [==============================] - 0s 6ms/step - loss: 0.6600 - accuracy: 0.6281 - val_loss: 0.6612 - val_accuracy: 0.6257\n",
            "Epoch 67/100\n",
            "13/13 [==============================] - 0s 6ms/step - loss: 0.6600 - accuracy: 0.6281 - val_loss: 0.6612 - val_accuracy: 0.6257\n",
            "Epoch 68/100\n",
            "13/13 [==============================] - 0s 5ms/step - loss: 0.6600 - accuracy: 0.6281 - val_loss: 0.6612 - val_accuracy: 0.6257\n",
            "Epoch 69/100\n",
            "13/13 [==============================] - 0s 6ms/step - loss: 0.6600 - accuracy: 0.6281 - val_loss: 0.6612 - val_accuracy: 0.6257\n",
            "Epoch 70/100\n",
            "13/13 [==============================] - 0s 6ms/step - loss: 0.6600 - accuracy: 0.6281 - val_loss: 0.6612 - val_accuracy: 0.6257\n",
            "Epoch 71/100\n",
            "13/13 [==============================] - 0s 7ms/step - loss: 0.6600 - accuracy: 0.6281 - val_loss: 0.6612 - val_accuracy: 0.6257\n",
            "Epoch 72/100\n",
            "13/13 [==============================] - 0s 6ms/step - loss: 0.6600 - accuracy: 0.6281 - val_loss: 0.6612 - val_accuracy: 0.6257\n",
            "Epoch 73/100\n",
            "13/13 [==============================] - 0s 6ms/step - loss: 0.6600 - accuracy: 0.6281 - val_loss: 0.6612 - val_accuracy: 0.6257\n",
            "Epoch 74/100\n",
            "13/13 [==============================] - 0s 5ms/step - loss: 0.6600 - accuracy: 0.6281 - val_loss: 0.6612 - val_accuracy: 0.6257\n",
            "Epoch 75/100\n",
            "13/13 [==============================] - 0s 6ms/step - loss: 0.6600 - accuracy: 0.6281 - val_loss: 0.6612 - val_accuracy: 0.6257\n",
            "Epoch 76/100\n",
            "13/13 [==============================] - 0s 6ms/step - loss: 0.6600 - accuracy: 0.6281 - val_loss: 0.6612 - val_accuracy: 0.6257\n",
            "Epoch 77/100\n",
            "13/13 [==============================] - 0s 5ms/step - loss: 0.6600 - accuracy: 0.6281 - val_loss: 0.6612 - val_accuracy: 0.6257\n",
            "Epoch 78/100\n",
            "13/13 [==============================] - 0s 6ms/step - loss: 0.6599 - accuracy: 0.6281 - val_loss: 0.6612 - val_accuracy: 0.6257\n",
            "Epoch 79/100\n",
            "13/13 [==============================] - 0s 5ms/step - loss: 0.6599 - accuracy: 0.6281 - val_loss: 0.6612 - val_accuracy: 0.6257\n",
            "Epoch 80/100\n",
            "13/13 [==============================] - 0s 7ms/step - loss: 0.6600 - accuracy: 0.6281 - val_loss: 0.6612 - val_accuracy: 0.6257\n",
            "Epoch 81/100\n",
            "13/13 [==============================] - 0s 7ms/step - loss: 0.6600 - accuracy: 0.6281 - val_loss: 0.6612 - val_accuracy: 0.6257\n",
            "Epoch 82/100\n",
            "13/13 [==============================] - 0s 6ms/step - loss: 0.6600 - accuracy: 0.6281 - val_loss: 0.6612 - val_accuracy: 0.6257\n",
            "Epoch 83/100\n",
            "13/13 [==============================] - 0s 6ms/step - loss: 0.6600 - accuracy: 0.6281 - val_loss: 0.6612 - val_accuracy: 0.6257\n",
            "Epoch 84/100\n",
            "13/13 [==============================] - 0s 6ms/step - loss: 0.6600 - accuracy: 0.6281 - val_loss: 0.6612 - val_accuracy: 0.6257\n",
            "Epoch 85/100\n",
            "13/13 [==============================] - 0s 6ms/step - loss: 0.6600 - accuracy: 0.6281 - val_loss: 0.6612 - val_accuracy: 0.6257\n",
            "Epoch 86/100\n",
            "13/13 [==============================] - 0s 5ms/step - loss: 0.6600 - accuracy: 0.6281 - val_loss: 0.6612 - val_accuracy: 0.6257\n",
            "Epoch 87/100\n",
            "13/13 [==============================] - 0s 5ms/step - loss: 0.6600 - accuracy: 0.6281 - val_loss: 0.6612 - val_accuracy: 0.6257\n",
            "Epoch 88/100\n",
            "13/13 [==============================] - 0s 6ms/step - loss: 0.6600 - accuracy: 0.6281 - val_loss: 0.6612 - val_accuracy: 0.6257\n",
            "Epoch 89/100\n",
            "13/13 [==============================] - 0s 5ms/step - loss: 0.6600 - accuracy: 0.6281 - val_loss: 0.6612 - val_accuracy: 0.6257\n",
            "Epoch 90/100\n",
            "13/13 [==============================] - 0s 6ms/step - loss: 0.6600 - accuracy: 0.6281 - val_loss: 0.6612 - val_accuracy: 0.6257\n",
            "Epoch 91/100\n",
            "13/13 [==============================] - 0s 6ms/step - loss: 0.6600 - accuracy: 0.6281 - val_loss: 0.6612 - val_accuracy: 0.6257\n",
            "Epoch 92/100\n",
            "13/13 [==============================] - 0s 6ms/step - loss: 0.6600 - accuracy: 0.6281 - val_loss: 0.6612 - val_accuracy: 0.6257\n",
            "Epoch 93/100\n",
            "13/13 [==============================] - 0s 6ms/step - loss: 0.6600 - accuracy: 0.6281 - val_loss: 0.6612 - val_accuracy: 0.6257\n",
            "Epoch 94/100\n",
            "13/13 [==============================] - 0s 5ms/step - loss: 0.6600 - accuracy: 0.6281 - val_loss: 0.6612 - val_accuracy: 0.6257\n",
            "Epoch 95/100\n",
            "13/13 [==============================] - 0s 5ms/step - loss: 0.6600 - accuracy: 0.6281 - val_loss: 0.6612 - val_accuracy: 0.6257\n",
            "Epoch 96/100\n",
            "13/13 [==============================] - 0s 6ms/step - loss: 0.6600 - accuracy: 0.6281 - val_loss: 0.6612 - val_accuracy: 0.6257\n",
            "Epoch 97/100\n",
            "13/13 [==============================] - 0s 6ms/step - loss: 0.6600 - accuracy: 0.6281 - val_loss: 0.6612 - val_accuracy: 0.6257\n",
            "Epoch 98/100\n",
            "13/13 [==============================] - 0s 6ms/step - loss: 0.6600 - accuracy: 0.6281 - val_loss: 0.6612 - val_accuracy: 0.6257\n",
            "Epoch 99/100\n",
            "13/13 [==============================] - 0s 5ms/step - loss: 0.6600 - accuracy: 0.6281 - val_loss: 0.6612 - val_accuracy: 0.6257\n",
            "Epoch 100/100\n",
            "13/13 [==============================] - 0s 5ms/step - loss: 0.6600 - accuracy: 0.6281 - val_loss: 0.6612 - val_accuracy: 0.6257\n"
          ]
        }
      ]
    },
    {
      "cell_type": "code",
      "source": [
        "import matplotlib.pyplot as plt\n",
        "import seaborn as sns"
      ],
      "metadata": {
        "id": "iBZhwDynnD-8"
      },
      "execution_count": 89,
      "outputs": []
    },
    {
      "cell_type": "code",
      "source": [
        "# Plot train vs test accuracy per epoch\n",
        "plt.figure()\n",
        "# Use the history metrics\n",
        "plt.plot(history_model1.history['accuracy'])\n",
        "plt.plot(history_model1.history['val_accuracy'])\n",
        "# Make it pretty\n",
        "plt.title('Model accuracy')\n",
        "plt.ylabel('Accuracy')\n",
        "plt.xlabel('Epoch')\n",
        "plt.legend(['Train', 'Test'])\n",
        "plt.show()"
      ],
      "metadata": {
        "colab": {
          "base_uri": "https://localhost:8080/",
          "height": 472
        },
        "id": "F6FZFGZnnAWN",
        "outputId": "c4757ff4-6496-499d-8ba3-8c37be9e1de9"
      },
      "execution_count": 90,
      "outputs": [
        {
          "output_type": "display_data",
          "data": {
            "text/plain": [
              "<Figure size 640x480 with 1 Axes>"
            ],
            "image/png": "[encoded data removed]"
          },
          "metadata": {}
        }
      ]
    },
    {
      "cell_type": "code",
      "source": [
        "# Evaluate the model\n",
        "_, accuracy = model1.evaluate(test_data, test_labels)\n",
        "print('Accuracy: %.2f' % (accuracy*100))"
      ],
      "metadata": {
        "colab": {
          "base_uri": "https://localhost:8080/"
        },
        "id": "Ds97uh_pnHZJ",
        "outputId": "0d1d89c3-5908-41d1-ca1e-cb26fe93ee27"
      },
      "execution_count": 91,
      "outputs": [
        {
          "output_type": "stream",
          "name": "stdout",
          "text": [
            "6/6 [==============================] - 0s 3ms/step - loss: 0.6612 - accuracy: 0.6257\n",
            "Accuracy: 62.57\n"
          ]
        }
      ]
    },
    {
      "cell_type": "code",
      "source": [
        "from sklearn.metrics import confusion_matrix\n",
        "\n",
        "# Predict class for test data\n",
        "y_pred = model1.predict(test_data)\n",
        "y_pred = (y_pred > 0.5)\n",
        "\n",
        "# Generate confusion matrix\n",
        "confusion_matrix_m1 = confusion_matrix(test_labels, y_pred)\n",
        "print(confusion_matrix_m1)\n"
      ],
      "metadata": {
        "colab": {
          "base_uri": "https://localhost:8080/"
        },
        "id": "5G1l7DTVnKbm",
        "outputId": "308549df-e263-4d0d-c965-f455d54e6d42"
      },
      "execution_count": 92,
      "outputs": [
        {
          "output_type": "stream",
          "name": "stdout",
          "text": [
            "6/6 [==============================] - 0s 4ms/step\n",
            "[[107   0]\n",
            " [ 64   0]]\n"
          ]
        }
      ]
    },
    {
      "cell_type": "code",
      "source": [
        "import matplotlib.pyplot as plt\n",
        "import seaborn as sns\n",
        "\n",
        "#Print confusion matrix\n",
        "plt.figure(figsize = (10,8))\n",
        "sns.heatmap(confusion_matrix_m1, linewidths = 0.1, cmap = 'Blues', linecolor = 'gray', fmt = '.1f', annot = True)\n",
        "plt.xlabel('Predicted classes', fontsize = 20)\n",
        "plt.ylabel('True classes', fontsize = 20)\n",
        "print(confusion_matrix_m1)"
      ],
      "metadata": {
        "colab": {
          "base_uri": "https://localhost:8080/",
          "height": 745
        },
        "id": "tAM48MoEnNm2",
        "outputId": "fe144750-9db1-4469-ff93-6ff71407a60e"
      },
      "execution_count": 78,
      "outputs": [
        {
          "output_type": "stream",
          "name": "stdout",
          "text": [
            "[[107   0]\n",
            " [ 64   0]]\n"
          ]
        },
        {
          "output_type": "display_data",
          "data": {
            "text/plain": [
              "<Figure size 1000x800 with 2 Axes>"
            ],
            "image/png": "[encoded data removed]"
          },
          "metadata": {}
        }
      ]
    },
    {
      "cell_type": "markdown",
      "source": [
        "\n",
        "\n",
        "---\n",
        "\n"
      ],
      "metadata": {
        "id": "4WTUV0AGnRgF"
      }
    },
    {
      "cell_type": "markdown",
      "source": [
        "Neural network v2 -- Same architecture with Adam optimizer and callbacks: {EarlyStopping, ReduceLROnPlateau}"
      ],
      "metadata": {
        "id": "SIBvRpgXnTzS"
      }
    },
    {
      "cell_type": "code",
      "source": [
        "# Create a sequential model\n",
        "model2 = Sequential()     "
      ],
      "metadata": {
        "id": "anuPXH2onSoI"
      },
      "execution_count": 52,
      "outputs": []
    },
    {
      "cell_type": "code",
      "source": [
        "# neural network architecture\n",
        "model2 = Sequential()\n",
        "model2.add(Dense(12, input_dim=30, activation='relu'))\n",
        "model2.add(Dense(8, activation='relu'))\n",
        "model2.add(Dense(1, activation='sigmoid'))"
      ],
      "metadata": {
        "id": "NF0XnCx6nXVg"
      },
      "execution_count": 59,
      "outputs": []
    },
    {
      "cell_type": "code",
      "source": [
        "from keras.optimizers import Adam\n",
        "model2.compile(optimizer=Adam(lr=0.001), loss='binary_crossentropy', metrics=['accuracy'])"
      ],
      "metadata": {
        "colab": {
          "base_uri": "https://localhost:8080/"
        },
        "id": "gvdWFKljnaGt",
        "outputId": "1f0bd6fb-bd6a-4d83-daa4-df36144dfc26"
      },
      "execution_count": 60,
      "outputs": [
        {
          "output_type": "stream",
          "name": "stderr",
          "text": [
            "/usr/local/lib/python3.10/dist-packages/keras/optimizers/legacy/adam.py:117: UserWarning: The `lr` argument is deprecated, use `learning_rate` instead.\n",
            "  super().__init__(name, **kwargs)\n"
          ]
        }
      ]
    },
    {
      "cell_type": "code",
      "source": [
        "model2.summary()     "
      ],
      "metadata": {
        "colab": {
          "base_uri": "https://localhost:8080/"
        },
        "id": "-tc3BHOCndWO",
        "outputId": "33fb6740-1fc0-4686-d67a-2a0a4b4b8d0f"
      },
      "execution_count": 61,
      "outputs": [
        {
          "output_type": "stream",
          "name": "stdout",
          "text": [
            "Model: \"sequential_6\"\n",
            "_________________________________________________________________\n",
            " Layer (type)                Output Shape              Param #   \n",
            "=================================================================\n",
            " dense_12 (Dense)            (None, 12)                372       \n",
            "                                                                 \n",
            " dense_13 (Dense)            (None, 8)                 104       \n",
            "                                                                 \n",
            " dense_14 (Dense)            (None, 1)                 9         \n",
            "                                                                 \n",
            "=================================================================\n",
            "Total params: 485\n",
            "Trainable params: 485\n",
            "Non-trainable params: 0\n",
            "_________________________________________________________________\n"
          ]
        }
      ]
    },
    {
      "cell_type": "code",
      "source": [
        "from keras.callbacks import EarlyStopping\n",
        "from keras.callbacks import ReduceLROnPlateau\n",
        "\n",
        "es = EarlyStopping(monitor='val_loss', patience=10, verbose=1)\n",
        "rlrop = ReduceLROnPlateau(monitor='val_loss', factor=0.1, patience=5, verbose=1, min_delta=1e-4)"
      ],
      "metadata": {
        "id": "p5_V-1ZVngAZ"
      },
      "execution_count": 62,
      "outputs": []
    },
    {
      "cell_type": "code",
      "source": [
        "# fit model\n",
        "history_model2 = model2.fit(train_data, train_labels,\n",
        "           validation_data=(test_data, test_labels),\n",
        "           epochs = 100, verbose=1, callbacks=[es, rlrop])"
      ],
      "metadata": {
        "colab": {
          "base_uri": "https://localhost:8080/"
        },
        "id": "oGnw3-SPniGx",
        "outputId": "b049e643-4e3a-4afb-a740-6208220245aa"
      },
      "execution_count": 63,
      "outputs": [
        {
          "output_type": "stream",
          "name": "stdout",
          "text": [
            "Epoch 1/100\n",
            "13/13 [==============================] - 1s 19ms/step - loss: 69.3306 - accuracy: 0.6281 - val_loss: 54.9774 - val_accuracy: 0.6257 - lr: 0.0010\n",
            "Epoch 2/100\n",
            "13/13 [==============================] - 0s 6ms/step - loss: 44.5887 - accuracy: 0.6281 - val_loss: 31.0293 - val_accuracy: 0.6257 - lr: 0.0010\n",
            "Epoch 3/100\n",
            "13/13 [==============================] - 0s 5ms/step - loss: 20.4582 - accuracy: 0.6005 - val_loss: 8.9629 - val_accuracy: 0.4444 - lr: 0.0010\n",
            "Epoch 4/100\n",
            "13/13 [==============================] - 0s 6ms/step - loss: 7.4855 - accuracy: 0.2638 - val_loss: 8.0506 - val_accuracy: 0.3684 - lr: 0.0010\n",
            "Epoch 5/100\n",
            "13/13 [==============================] - 0s 5ms/step - loss: 6.8717 - accuracy: 0.2940 - val_loss: 5.2610 - val_accuracy: 0.1696 - lr: 0.0010\n",
            "Epoch 6/100\n",
            "13/13 [==============================] - 0s 6ms/step - loss: 5.0817 - accuracy: 0.1608 - val_loss: 4.8016 - val_accuracy: 0.1871 - lr: 0.0010\n",
            "Epoch 7/100\n",
            "13/13 [==============================] - 0s 6ms/step - loss: 4.5365 - accuracy: 0.1759 - val_loss: 4.1717 - val_accuracy: 0.1754 - lr: 0.0010\n",
            "Epoch 8/100\n",
            "13/13 [==============================] - 0s 6ms/step - loss: 3.9203 - accuracy: 0.1985 - val_loss: 3.6559 - val_accuracy: 0.1930 - lr: 0.0010\n",
            "Epoch 9/100\n",
            "13/13 [==============================] - 0s 6ms/step - loss: 3.4857 - accuracy: 0.1910 - val_loss: 3.1211 - val_accuracy: 0.2047 - lr: 0.0010\n",
            "Epoch 10/100\n",
            "13/13 [==============================] - 0s 5ms/step - loss: 3.1988 - accuracy: 0.2688 - val_loss: 2.6884 - val_accuracy: 0.2339 - lr: 0.0010\n",
            "Epoch 11/100\n",
            "13/13 [==============================] - 0s 6ms/step - loss: 2.7743 - accuracy: 0.2714 - val_loss: 2.3462 - val_accuracy: 0.2690 - lr: 0.0010\n",
            "Epoch 12/100\n",
            "13/13 [==============================] - 0s 6ms/step - loss: 2.1796 - accuracy: 0.2940 - val_loss: 2.0362 - val_accuracy: 0.3626 - lr: 0.0010\n",
            "Epoch 13/100\n",
            "13/13 [==============================] - 0s 6ms/step - loss: 1.9567 - accuracy: 0.3317 - val_loss: 1.6966 - val_accuracy: 0.2982 - lr: 0.0010\n",
            "Epoch 14/100\n",
            "13/13 [==============================] - 0s 5ms/step - loss: 1.5881 - accuracy: 0.3869 - val_loss: 1.3546 - val_accuracy: 0.3392 - lr: 0.0010\n",
            "Epoch 15/100\n",
            "13/13 [==============================] - 0s 6ms/step - loss: 1.3052 - accuracy: 0.4296 - val_loss: 1.1760 - val_accuracy: 0.3567 - lr: 0.0010\n",
            "Epoch 16/100\n",
            "13/13 [==============================] - 0s 6ms/step - loss: 1.0953 - accuracy: 0.4849 - val_loss: 1.0323 - val_accuracy: 0.6433 - lr: 0.0010\n",
            "Epoch 17/100\n",
            "13/13 [==============================] - 0s 5ms/step - loss: 0.9640 - accuracy: 0.5503 - val_loss: 0.8896 - val_accuracy: 0.6725 - lr: 0.0010\n",
            "Epoch 18/100\n",
            "13/13 [==============================] - 0s 5ms/step - loss: 0.8451 - accuracy: 0.6658 - val_loss: 0.7548 - val_accuracy: 0.5848 - lr: 0.0010\n",
            "Epoch 19/100\n",
            "13/13 [==============================] - 0s 6ms/step - loss: 0.7419 - accuracy: 0.7211 - val_loss: 0.7044 - val_accuracy: 0.7836 - lr: 0.0010\n",
            "Epoch 20/100\n",
            "13/13 [==============================] - 0s 5ms/step - loss: 0.6872 - accuracy: 0.7613 - val_loss: 0.6281 - val_accuracy: 0.7661 - lr: 0.0010\n",
            "Epoch 21/100\n",
            "13/13 [==============================] - 0s 5ms/step - loss: 0.6290 - accuracy: 0.8090 - val_loss: 0.5874 - val_accuracy: 0.6842 - lr: 0.0010\n",
            "Epoch 22/100\n",
            "13/13 [==============================] - 0s 5ms/step - loss: 0.6083 - accuracy: 0.8141 - val_loss: 0.5373 - val_accuracy: 0.8187 - lr: 0.0010\n",
            "Epoch 23/100\n",
            "13/13 [==============================] - 0s 5ms/step - loss: 0.5394 - accuracy: 0.8492 - val_loss: 0.5462 - val_accuracy: 0.8421 - lr: 0.0010\n",
            "Epoch 24/100\n",
            "13/13 [==============================] - 0s 6ms/step - loss: 0.5032 - accuracy: 0.8744 - val_loss: 0.4733 - val_accuracy: 0.8187 - lr: 0.0010\n",
            "Epoch 25/100\n",
            "13/13 [==============================] - 0s 6ms/step - loss: 0.4858 - accuracy: 0.8492 - val_loss: 0.5023 - val_accuracy: 0.8421 - lr: 0.0010\n",
            "Epoch 26/100\n",
            "13/13 [==============================] - 0s 5ms/step - loss: 0.4662 - accuracy: 0.8719 - val_loss: 0.4308 - val_accuracy: 0.8655 - lr: 0.0010\n",
            "Epoch 27/100\n",
            "13/13 [==============================] - 0s 7ms/step - loss: 0.4375 - accuracy: 0.8869 - val_loss: 0.4081 - val_accuracy: 0.8655 - lr: 0.0010\n",
            "Epoch 28/100\n",
            "13/13 [==============================] - 0s 5ms/step - loss: 0.4237 - accuracy: 0.8769 - val_loss: 0.4168 - val_accuracy: 0.8713 - lr: 0.0010\n",
            "Epoch 29/100\n",
            "13/13 [==============================] - 0s 5ms/step - loss: 0.3977 - accuracy: 0.8970 - val_loss: 0.3869 - val_accuracy: 0.8889 - lr: 0.0010\n",
            "Epoch 30/100\n",
            "13/13 [==============================] - 0s 7ms/step - loss: 0.3922 - accuracy: 0.8970 - val_loss: 0.3626 - val_accuracy: 0.9006 - lr: 0.0010\n",
            "Epoch 31/100\n",
            "13/13 [==============================] - 0s 6ms/step - loss: 0.3956 - accuracy: 0.8920 - val_loss: 0.3694 - val_accuracy: 0.8246 - lr: 0.0010\n",
            "Epoch 32/100\n",
            "13/13 [==============================] - 0s 6ms/step - loss: 0.3998 - accuracy: 0.8744 - val_loss: 0.3725 - val_accuracy: 0.8713 - lr: 0.0010\n",
            "Epoch 33/100\n",
            "13/13 [==============================] - 0s 6ms/step - loss: 0.3441 - accuracy: 0.8920 - val_loss: 0.3356 - val_accuracy: 0.9006 - lr: 0.0010\n",
            "Epoch 34/100\n",
            "13/13 [==============================] - 0s 6ms/step - loss: 0.3467 - accuracy: 0.8920 - val_loss: 0.3214 - val_accuracy: 0.9006 - lr: 0.0010\n",
            "Epoch 35/100\n",
            "13/13 [==============================] - 0s 5ms/step - loss: 0.3351 - accuracy: 0.9095 - val_loss: 0.3163 - val_accuracy: 0.9064 - lr: 0.0010\n",
            "Epoch 36/100\n",
            "13/13 [==============================] - 0s 5ms/step - loss: 0.3233 - accuracy: 0.8970 - val_loss: 0.3255 - val_accuracy: 0.8830 - lr: 0.0010\n",
            "Epoch 37/100\n",
            "13/13 [==============================] - 0s 6ms/step - loss: 0.3142 - accuracy: 0.9070 - val_loss: 0.2995 - val_accuracy: 0.9123 - lr: 0.0010\n",
            "Epoch 38/100\n",
            "13/13 [==============================] - 0s 5ms/step - loss: 0.3006 - accuracy: 0.9121 - val_loss: 0.3399 - val_accuracy: 0.8713 - lr: 0.0010\n",
            "Epoch 39/100\n",
            "13/13 [==============================] - 0s 5ms/step - loss: 0.3128 - accuracy: 0.9070 - val_loss: 0.3017 - val_accuracy: 0.8947 - lr: 0.0010\n",
            "Epoch 40/100\n",
            "13/13 [==============================] - 0s 5ms/step - loss: 0.3058 - accuracy: 0.9070 - val_loss: 0.2916 - val_accuracy: 0.8713 - lr: 0.0010\n",
            "Epoch 41/100\n",
            "13/13 [==============================] - 0s 5ms/step - loss: 0.2989 - accuracy: 0.8995 - val_loss: 0.3100 - val_accuracy: 0.8830 - lr: 0.0010\n",
            "Epoch 42/100\n",
            "13/13 [==============================] - 0s 7ms/step - loss: 0.2772 - accuracy: 0.9171 - val_loss: 0.2764 - val_accuracy: 0.9123 - lr: 0.0010\n",
            "Epoch 43/100\n",
            "13/13 [==============================] - 0s 6ms/step - loss: 0.2774 - accuracy: 0.9070 - val_loss: 0.2995 - val_accuracy: 0.8889 - lr: 0.0010\n",
            "Epoch 44/100\n",
            "13/13 [==============================] - 0s 6ms/step - loss: 0.2717 - accuracy: 0.9045 - val_loss: 0.2795 - val_accuracy: 0.9006 - lr: 0.0010\n",
            "Epoch 45/100\n",
            "13/13 [==============================] - 0s 6ms/step - loss: 0.2816 - accuracy: 0.9121 - val_loss: 0.2691 - val_accuracy: 0.9006 - lr: 0.0010\n",
            "Epoch 46/100\n",
            "13/13 [==============================] - 0s 5ms/step - loss: 0.2695 - accuracy: 0.8995 - val_loss: 0.3081 - val_accuracy: 0.8830 - lr: 0.0010\n",
            "Epoch 47/100\n",
            "13/13 [==============================] - 0s 5ms/step - loss: 0.2606 - accuracy: 0.9020 - val_loss: 0.2595 - val_accuracy: 0.9064 - lr: 0.0010\n",
            "Epoch 48/100\n",
            "13/13 [==============================] - 0s 5ms/step - loss: 0.2784 - accuracy: 0.9095 - val_loss: 0.2614 - val_accuracy: 0.9006 - lr: 0.0010\n",
            "Epoch 49/100\n",
            "13/13 [==============================] - 0s 5ms/step - loss: 0.2881 - accuracy: 0.8995 - val_loss: 0.3575 - val_accuracy: 0.8830 - lr: 0.0010\n",
            "Epoch 50/100\n",
            "13/13 [==============================] - 0s 6ms/step - loss: 0.2580 - accuracy: 0.9221 - val_loss: 0.2570 - val_accuracy: 0.9006 - lr: 0.0010\n",
            "Epoch 51/100\n",
            "13/13 [==============================] - 0s 7ms/step - loss: 0.2602 - accuracy: 0.9095 - val_loss: 0.2594 - val_accuracy: 0.9006 - lr: 0.0010\n",
            "Epoch 52/100\n",
            "13/13 [==============================] - 0s 6ms/step - loss: 0.2438 - accuracy: 0.9221 - val_loss: 0.2743 - val_accuracy: 0.8947 - lr: 0.0010\n",
            "Epoch 53/100\n",
            "13/13 [==============================] - 0s 5ms/step - loss: 0.2526 - accuracy: 0.8970 - val_loss: 0.3358 - val_accuracy: 0.8889 - lr: 0.0010\n",
            "Epoch 54/100\n",
            "13/13 [==============================] - 0s 6ms/step - loss: 0.2673 - accuracy: 0.9020 - val_loss: 0.2474 - val_accuracy: 0.9064 - lr: 0.0010\n",
            "Epoch 55/100\n",
            "13/13 [==============================] - 0s 5ms/step - loss: 0.2354 - accuracy: 0.9171 - val_loss: 0.2807 - val_accuracy: 0.8889 - lr: 0.0010\n",
            "Epoch 56/100\n",
            "13/13 [==============================] - 0s 6ms/step - loss: 0.2453 - accuracy: 0.9146 - val_loss: 0.2772 - val_accuracy: 0.8947 - lr: 0.0010\n",
            "Epoch 57/100\n",
            "13/13 [==============================] - 0s 5ms/step - loss: 0.2338 - accuracy: 0.9196 - val_loss: 0.2463 - val_accuracy: 0.9064 - lr: 0.0010\n",
            "Epoch 58/100\n",
            "13/13 [==============================] - 0s 5ms/step - loss: 0.2451 - accuracy: 0.9020 - val_loss: 0.2830 - val_accuracy: 0.8830 - lr: 0.0010\n",
            "Epoch 59/100\n",
            "13/13 [==============================] - 0s 6ms/step - loss: 0.2378 - accuracy: 0.9171 - val_loss: 0.2366 - val_accuracy: 0.9064 - lr: 0.0010\n",
            "Epoch 60/100\n",
            "13/13 [==============================] - 0s 5ms/step - loss: 0.2413 - accuracy: 0.9121 - val_loss: 0.2560 - val_accuracy: 0.9064 - lr: 0.0010\n",
            "Epoch 61/100\n",
            "13/13 [==============================] - 0s 6ms/step - loss: 0.2394 - accuracy: 0.9196 - val_loss: 0.2391 - val_accuracy: 0.9064 - lr: 0.0010\n",
            "Epoch 62/100\n",
            "13/13 [==============================] - 0s 6ms/step - loss: 0.2334 - accuracy: 0.9196 - val_loss: 0.2614 - val_accuracy: 0.8947 - lr: 0.0010\n",
            "Epoch 63/100\n",
            "13/13 [==============================] - 0s 6ms/step - loss: 0.2290 - accuracy: 0.9221 - val_loss: 0.2386 - val_accuracy: 0.9064 - lr: 0.0010\n",
            "Epoch 64/100\n",
            " 1/13 [=>............................] - ETA: 0s - loss: 0.2178 - accuracy: 0.9375\n",
            "Epoch 64: ReduceLROnPlateau reducing learning rate to 0.00010000000474974513.\n",
            "13/13 [==============================] - 0s 5ms/step - loss: 0.2334 - accuracy: 0.9146 - val_loss: 0.2560 - val_accuracy: 0.9064 - lr: 0.0010\n",
            "Epoch 65/100\n",
            "13/13 [==============================] - 0s 7ms/step - loss: 0.2289 - accuracy: 0.9196 - val_loss: 0.2556 - val_accuracy: 0.9064 - lr: 1.0000e-04\n",
            "Epoch 66/100\n",
            "13/13 [==============================] - 0s 5ms/step - loss: 0.2281 - accuracy: 0.9171 - val_loss: 0.2502 - val_accuracy: 0.9064 - lr: 1.0000e-04\n",
            "Epoch 67/100\n",
            "13/13 [==============================] - 0s 5ms/step - loss: 0.2301 - accuracy: 0.9171 - val_loss: 0.2396 - val_accuracy: 0.9064 - lr: 1.0000e-04\n",
            "Epoch 68/100\n",
            "13/13 [==============================] - 0s 6ms/step - loss: 0.2291 - accuracy: 0.9171 - val_loss: 0.2453 - val_accuracy: 0.9064 - lr: 1.0000e-04\n",
            "Epoch 69/100\n",
            " 1/13 [=>............................] - ETA: 0s - loss: 0.1390 - accuracy: 0.9688\n",
            "Epoch 69: ReduceLROnPlateau reducing learning rate to 1.0000000474974514e-05.\n",
            "13/13 [==============================] - 0s 6ms/step - loss: 0.2269 - accuracy: 0.9196 - val_loss: 0.2440 - val_accuracy: 0.9064 - lr: 1.0000e-04\n",
            "Epoch 69: early stopping\n"
          ]
        }
      ]
    },
    {
      "cell_type": "code",
      "source": [
        "# Plot train vs test accuracy per epoch\n",
        "plt.figure()\n",
        "# Use the history metrics\n",
        "plt.plot(history_model2.history['accuracy'])\n",
        "plt.plot(history_model2.history['val_accuracy'])\n",
        "# Make it pretty\n",
        "plt.title('Model accuracy')\n",
        "plt.ylabel('Accuracy')\n",
        "plt.xlabel('Epoch')\n",
        "plt.legend(['Train', 'Test'])\n",
        "plt.show()\n",
        "     "
      ],
      "metadata": {
        "colab": {
          "base_uri": "https://localhost:8080/",
          "height": 472
        },
        "id": "rZ5taqgonrcq",
        "outputId": "91c06e42-8554-438f-d873-c5cb9238eb50"
      },
      "execution_count": 64,
      "outputs": [
        {
          "output_type": "display_data",
          "data": {
            "text/plain": [
              "<Figure size 640x480 with 1 Axes>"
            ],
            "image/png": "[encoded data removed]"
          },
          "metadata": {}
        }
      ]
    },
    {
      "cell_type": "code",
      "source": [
        "# Evaluate the model\n",
        "_, accuracy_m2 = model2.evaluate(test_data, test_labels)\n",
        "print('Accuracy: %.2f' % (accuracy_m2*100))"
      ],
      "metadata": {
        "colab": {
          "base_uri": "https://localhost:8080/"
        },
        "id": "9ZAG3yC_nvGV",
        "outputId": "745bb858-7282-497c-9b2f-c46e0f63b2ea"
      },
      "execution_count": 65,
      "outputs": [
        {
          "output_type": "stream",
          "name": "stdout",
          "text": [
            "6/6 [==============================] - 0s 5ms/step - loss: 0.2440 - accuracy: 0.9064\n",
            "Accuracy: 90.64\n"
          ]
        }
      ]
    },
    {
      "cell_type": "code",
      "source": [
        "# Predict class for test data\n",
        "y_pred_m2 = model2.predict(test_data)\n",
        "y_pred_m2 = (y_pred_m2 > 0.5)"
      ],
      "metadata": {
        "colab": {
          "base_uri": "https://localhost:8080/"
        },
        "id": "9QadgJ2vnyF7",
        "outputId": "a326696f-85c5-4397-fb08-1b613c19c775"
      },
      "execution_count": 66,
      "outputs": [
        {
          "output_type": "stream",
          "name": "stdout",
          "text": [
            "6/6 [==============================] - 0s 4ms/step\n"
          ]
        }
      ]
    },
    {
      "cell_type": "code",
      "source": [
        "# Generate confusion matrix\n",
        "confusion_matrix_m2 = confusion_matrix(test_labels, y_pred_m2)\n",
        "print(confusion_matrix_m2)"
      ],
      "metadata": {
        "colab": {
          "base_uri": "https://localhost:8080/"
        },
        "id": "JOE86pU9n0g4",
        "outputId": "faebbb39-d219-4359-ec03-6fb4bdc94a3d"
      },
      "execution_count": 67,
      "outputs": [
        {
          "output_type": "stream",
          "name": "stdout",
          "text": [
            "[[105   2]\n",
            " [ 14  50]]\n"
          ]
        }
      ]
    },
    {
      "cell_type": "code",
      "source": [
        "#Print confusion matrix\n",
        "plt.figure(figsize = (10,8))\n",
        "sns.heatmap(confusion_matrix_m2, linewidths = 0.1, cmap = 'Blues', linecolor = 'gray', fmt = '.1f', annot = True)\n",
        "plt.xlabel('Predicted classes', fontsize = 20)\n",
        "plt.ylabel('True classes', fontsize = 20)\n",
        "print(confusion_matrix_m2)"
      ],
      "metadata": {
        "colab": {
          "base_uri": "https://localhost:8080/",
          "height": 745
        },
        "id": "jOb2H81On3eK",
        "outputId": "59db97e4-7168-457e-f0d4-49069235dbed"
      },
      "execution_count": 68,
      "outputs": [
        {
          "output_type": "stream",
          "name": "stdout",
          "text": [
            "[[105   2]\n",
            " [ 14  50]]\n"
          ]
        },
        {
          "output_type": "display_data",
          "data": {
            "text/plain": [
              "<Figure size 1000x800 with 2 Axes>"
            ],
            "image/png": "[encoded data removed]"
          },
          "metadata": {}
        }
      ]
    }
  ]
}