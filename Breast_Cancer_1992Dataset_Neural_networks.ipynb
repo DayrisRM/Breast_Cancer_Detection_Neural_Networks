{
  "nbformat": 4,
  "nbformat_minor": 0,
  "metadata": {
    "colab": {
      "provenance": [],
      "authorship_tag": "ABX9TyPGHh8HKYLBp9zond6/AQhB",
      "include_colab_link": true
    },
    "kernelspec": {
      "name": "python3",
      "display_name": "Python 3"
    },
    "language_info": {
      "name": "python"
    }
  },
  "cells": [
    {
      "cell_type": "markdown",
      "metadata": {
        "id": "view-in-github",
        "colab_type": "text"
      },
      "source": [
        "<a href=\"https://colab.research.google.com/github/DayrisRM/Breast_Cancer_Detection_Neural_Networks/blob/main/Breast_Cancer_1992Dataset_Neural_networks.ipynb\" target=\"_parent\"><img src=\"https://colab.research.google.com/assets/colab-badge.svg\" alt=\"Open In Colab\"/></a>"
      ]
    },
    {
      "cell_type": "code",
      "execution_count": 2,
      "metadata": {
        "id": "saxy-JSmBSQq"
      },
      "outputs": [],
      "source": [
        "from sklearn.datasets import load_iris\n",
        "from sklearn.model_selection import train_test_split\n",
        "import numpy as np\n",
        "import pandas as pd"
      ]
    },
    {
      "cell_type": "code",
      "source": [
        "df = pd.read_csv(\"/content/breast-cancer-1992-v4.csv\", sep=\";\")\n",
        "df"
      ],
      "metadata": {
        "colab": {
          "base_uri": "https://localhost:8080/",
          "height": 424
        },
        "id": "lm51WQiBCpiA",
        "outputId": "8c79e02c-c158-443d-b5ba-94c240614ebc"
      },
      "execution_count": 15,
      "outputs": [
        {
          "output_type": "execute_result",
          "data": {
            "text/plain": [
              "        code  ClumpThickness  UniformityCellSize  UniformityCellShape  \\\n",
              "0    1000025               5                   1                    1   \n",
              "1    1002945               5                   4                    4   \n",
              "2    1015425               3                   1                    1   \n",
              "3    1016277               6                   8                    8   \n",
              "4    1017023               4                   1                    1   \n",
              "..       ...             ...                 ...                  ...   \n",
              "694   776715               3                   1                    1   \n",
              "695   841769               2                   1                    1   \n",
              "696   888820               5                  10                   10   \n",
              "697   897471               4                   8                    6   \n",
              "698   897471               4                   8                    8   \n",
              "\n",
              "     MarginalAdhesion  SingleEpithelialCellSize  BareNuclei  BlandChromatin  \\\n",
              "0                   1                         2           1               3   \n",
              "1                   5                         7          10               3   \n",
              "2                   1                         2           2               3   \n",
              "3                   1                         3           4               3   \n",
              "4                   3                         2           1               3   \n",
              "..                ...                       ...         ...             ...   \n",
              "694                 1                         3           2               1   \n",
              "695                 1                         2           1               1   \n",
              "696                 3                         7           3               8   \n",
              "697                 4                         3           4              10   \n",
              "698                 5                         4           5              10   \n",
              "\n",
              "     NormalNucleoli  Mitoses  Class  \n",
              "0                 1        1      0  \n",
              "1                 2        1      0  \n",
              "2                 1        1      0  \n",
              "3                 7        1      0  \n",
              "4                 1        1      0  \n",
              "..              ...      ...    ...  \n",
              "694               1        1      0  \n",
              "695               1        1      0  \n",
              "696              10        2      1  \n",
              "697               6        1      1  \n",
              "698               4        1      1  \n",
              "\n",
              "[699 rows x 11 columns]"
            ],
            "text/html": [
              "\n",
              "  <div id=\"df-1dfcefa3-8ef1-48e3-a818-cef04198d3de\">\n",
              "    <div class=\"colab-df-container\">\n",
              "      <div>\n",
              "<style scoped>\n",
              "    .dataframe tbody tr th:only-of-type {\n",
              "        vertical-align: middle;\n",
              "    }\n",
              "\n",
              "    .dataframe tbody tr th {\n",
              "        vertical-align: top;\n",
              "    }\n",
              "\n",
              "    .dataframe thead th {\n",
              "        text-align: right;\n",
              "    }\n",
              "</style>\n",
              "<table border=\"1\" class=\"dataframe\">\n",
              "  <thead>\n",
              "    <tr style=\"text-align: right;\">\n",
              "      <th></th>\n",
              "      <th>code</th>\n",
              "      <th>ClumpThickness</th>\n",
              "      <th>UniformityCellSize</th>\n",
              "      <th>UniformityCellShape</th>\n",
              "      <th>MarginalAdhesion</th>\n",
              "      <th>SingleEpithelialCellSize</th>\n",
              "      <th>BareNuclei</th>\n",
              "      <th>BlandChromatin</th>\n",
              "      <th>NormalNucleoli</th>\n",
              "      <th>Mitoses</th>\n",
              "      <th>Class</th>\n",
              "    </tr>\n",
              "  </thead>\n",
              "  <tbody>\n",
              "    <tr>\n",
              "      <th>0</th>\n",
              "      <td>1000025</td>\n",
              "      <td>5</td>\n",
              "      <td>1</td>\n",
              "      <td>1</td>\n",
              "      <td>1</td>\n",
              "      <td>2</td>\n",
              "      <td>1</td>\n",
              "      <td>3</td>\n",
              "      <td>1</td>\n",
              "      <td>1</td>\n",
              "      <td>0</td>\n",
              "    </tr>\n",
              "    <tr>\n",
              "      <th>1</th>\n",
              "      <td>1002945</td>\n",
              "      <td>5</td>\n",
              "      <td>4</td>\n",
              "      <td>4</td>\n",
              "      <td>5</td>\n",
              "      <td>7</td>\n",
              "      <td>10</td>\n",
              "      <td>3</td>\n",
              "      <td>2</td>\n",
              "      <td>1</td>\n",
              "      <td>0</td>\n",
              "    </tr>\n",
              "    <tr>\n",
              "      <th>2</th>\n",
              "      <td>1015425</td>\n",
              "      <td>3</td>\n",
              "      <td>1</td>\n",
              "      <td>1</td>\n",
              "      <td>1</td>\n",
              "      <td>2</td>\n",
              "      <td>2</td>\n",
              "      <td>3</td>\n",
              "      <td>1</td>\n",
              "      <td>1</td>\n",
              "      <td>0</td>\n",
              "    </tr>\n",
              "    <tr>\n",
              "      <th>3</th>\n",
              "      <td>1016277</td>\n",
              "      <td>6</td>\n",
              "      <td>8</td>\n",
              "      <td>8</td>\n",
              "      <td>1</td>\n",
              "      <td>3</td>\n",
              "      <td>4</td>\n",
              "      <td>3</td>\n",
              "      <td>7</td>\n",
              "      <td>1</td>\n",
              "      <td>0</td>\n",
              "    </tr>\n",
              "    <tr>\n",
              "      <th>4</th>\n",
              "      <td>1017023</td>\n",
              "      <td>4</td>\n",
              "      <td>1</td>\n",
              "      <td>1</td>\n",
              "      <td>3</td>\n",
              "      <td>2</td>\n",
              "      <td>1</td>\n",
              "      <td>3</td>\n",
              "      <td>1</td>\n",
              "      <td>1</td>\n",
              "      <td>0</td>\n",
              "    </tr>\n",
              "    <tr>\n",
              "      <th>...</th>\n",
              "      <td>...</td>\n",
              "      <td>...</td>\n",
              "      <td>...</td>\n",
              "      <td>...</td>\n",
              "      <td>...</td>\n",
              "      <td>...</td>\n",
              "      <td>...</td>\n",
              "      <td>...</td>\n",
              "      <td>...</td>\n",
              "      <td>...</td>\n",
              "      <td>...</td>\n",
              "    </tr>\n",
              "    <tr>\n",
              "      <th>694</th>\n",
              "      <td>776715</td>\n",
              "      <td>3</td>\n",
              "      <td>1</td>\n",
              "      <td>1</td>\n",
              "      <td>1</td>\n",
              "      <td>3</td>\n",
              "      <td>2</td>\n",
              "      <td>1</td>\n",
              "      <td>1</td>\n",
              "      <td>1</td>\n",
              "      <td>0</td>\n",
              "    </tr>\n",
              "    <tr>\n",
              "      <th>695</th>\n",
              "      <td>841769</td>\n",
              "      <td>2</td>\n",
              "      <td>1</td>\n",
              "      <td>1</td>\n",
              "      <td>1</td>\n",
              "      <td>2</td>\n",
              "      <td>1</td>\n",
              "      <td>1</td>\n",
              "      <td>1</td>\n",
              "      <td>1</td>\n",
              "      <td>0</td>\n",
              "    </tr>\n",
              "    <tr>\n",
              "      <th>696</th>\n",
              "      <td>888820</td>\n",
              "      <td>5</td>\n",
              "      <td>10</td>\n",
              "      <td>10</td>\n",
              "      <td>3</td>\n",
              "      <td>7</td>\n",
              "      <td>3</td>\n",
              "      <td>8</td>\n",
              "      <td>10</td>\n",
              "      <td>2</td>\n",
              "      <td>1</td>\n",
              "    </tr>\n",
              "    <tr>\n",
              "      <th>697</th>\n",
              "      <td>897471</td>\n",
              "      <td>4</td>\n",
              "      <td>8</td>\n",
              "      <td>6</td>\n",
              "      <td>4</td>\n",
              "      <td>3</td>\n",
              "      <td>4</td>\n",
              "      <td>10</td>\n",
              "      <td>6</td>\n",
              "      <td>1</td>\n",
              "      <td>1</td>\n",
              "    </tr>\n",
              "    <tr>\n",
              "      <th>698</th>\n",
              "      <td>897471</td>\n",
              "      <td>4</td>\n",
              "      <td>8</td>\n",
              "      <td>8</td>\n",
              "      <td>5</td>\n",
              "      <td>4</td>\n",
              "      <td>5</td>\n",
              "      <td>10</td>\n",
              "      <td>4</td>\n",
              "      <td>1</td>\n",
              "      <td>1</td>\n",
              "    </tr>\n",
              "  </tbody>\n",
              "</table>\n",
              "<p>699 rows × 11 columns</p>\n",
              "</div>\n",
              "      <button class=\"colab-df-convert\" onclick=\"convertToInteractive('df-1dfcefa3-8ef1-48e3-a818-cef04198d3de')\"\n",
              "              title=\"Convert this dataframe to an interactive table.\"\n",
              "              style=\"display:none;\">\n",
              "        \n",
              "  <svg xmlns=\"http://www.w3.org/2000/svg\" height=\"24px\"viewBox=\"0 0 24 24\"\n",
              "       width=\"24px\">\n",
              "    <path d=\"M0 0h24v24H0V0z\" fill=\"none\"/>\n",
              "    <path d=\"M18.56 5.44l.94 2.06.94-2.06 2.06-.94-2.06-.94-.94-2.06-.94 2.06-2.06.94zm-11 1L8.5 8.5l.94-2.06 2.06-.94-2.06-.94L8.5 2.5l-.94 2.06-2.06.94zm10 10l.94 2.06.94-2.06 2.06-.94-2.06-.94-.94-2.06-.94 2.06-2.06.94z\"/><path d=\"M17.41 7.96l-1.37-1.37c-.4-.4-.92-.59-1.43-.59-.52 0-1.04.2-1.43.59L10.3 9.45l-7.72 7.72c-.78.78-.78 2.05 0 2.83L4 21.41c.39.39.9.59 1.41.59.51 0 1.02-.2 1.41-.59l7.78-7.78 2.81-2.81c.8-.78.8-2.07 0-2.86zM5.41 20L4 18.59l7.72-7.72 1.47 1.35L5.41 20z\"/>\n",
              "  </svg>\n",
              "      </button>\n",
              "      \n",
              "  <style>\n",
              "    .colab-df-container {\n",
              "      display:flex;\n",
              "      flex-wrap:wrap;\n",
              "      gap: 12px;\n",
              "    }\n",
              "\n",
              "    .colab-df-convert {\n",
              "      background-color: #E8F0FE;\n",
              "      border: none;\n",
              "      border-radius: 50%;\n",
              "      cursor: pointer;\n",
              "      display: none;\n",
              "      fill: #1967D2;\n",
              "      height: 32px;\n",
              "      padding: 0 0 0 0;\n",
              "      width: 32px;\n",
              "    }\n",
              "\n",
              "    .colab-df-convert:hover {\n",
              "      background-color: #E2EBFA;\n",
              "      box-shadow: 0px 1px 2px rgba(60, 64, 67, 0.3), 0px 1px 3px 1px rgba(60, 64, 67, 0.15);\n",
              "      fill: #174EA6;\n",
              "    }\n",
              "\n",
              "    [theme=dark] .colab-df-convert {\n",
              "      background-color: #3B4455;\n",
              "      fill: #D2E3FC;\n",
              "    }\n",
              "\n",
              "    [theme=dark] .colab-df-convert:hover {\n",
              "      background-color: #434B5C;\n",
              "      box-shadow: 0px 1px 3px 1px rgba(0, 0, 0, 0.15);\n",
              "      filter: drop-shadow(0px 1px 2px rgba(0, 0, 0, 0.3));\n",
              "      fill: #FFFFFF;\n",
              "    }\n",
              "  </style>\n",
              "\n",
              "      <script>\n",
              "        const buttonEl =\n",
              "          document.querySelector('#df-1dfcefa3-8ef1-48e3-a818-cef04198d3de button.colab-df-convert');\n",
              "        buttonEl.style.display =\n",
              "          google.colab.kernel.accessAllowed ? 'block' : 'none';\n",
              "\n",
              "        async function convertToInteractive(key) {\n",
              "          const element = document.querySelector('#df-1dfcefa3-8ef1-48e3-a818-cef04198d3de');\n",
              "          const dataTable =\n",
              "            await google.colab.kernel.invokeFunction('convertToInteractive',\n",
              "                                                     [key], {});\n",
              "          if (!dataTable) return;\n",
              "\n",
              "          const docLinkHtml = 'Like what you see? Visit the ' +\n",
              "            '<a target=\"_blank\" href=https://colab.research.google.com/notebooks/data_table.ipynb>data table notebook</a>'\n",
              "            + ' to learn more about interactive tables.';\n",
              "          element.innerHTML = '';\n",
              "          dataTable['output_type'] = 'display_data';\n",
              "          await google.colab.output.renderOutput(dataTable, element);\n",
              "          const docLink = document.createElement('div');\n",
              "          docLink.innerHTML = docLinkHtml;\n",
              "          element.appendChild(docLink);\n",
              "        }\n",
              "      </script>\n",
              "    </div>\n",
              "  </div>\n",
              "  "
            ]
          },
          "metadata": {},
          "execution_count": 15
        }
      ]
    },
    {
      "cell_type": "code",
      "source": [
        "print(type(df))"
      ],
      "metadata": {
        "colab": {
          "base_uri": "https://localhost:8080/"
        },
        "id": "X9bIWUB9D-Iv",
        "outputId": "ebb73b77-4686-4087-97f5-ff24b374661d"
      },
      "execution_count": 16,
      "outputs": [
        {
          "output_type": "stream",
          "name": "stdout",
          "text": [
            "<class 'pandas.core.frame.DataFrame'>\n"
          ]
        }
      ]
    },
    {
      "cell_type": "code",
      "source": [
        "df.columns.values"
      ],
      "metadata": {
        "colab": {
          "base_uri": "https://localhost:8080/"
        },
        "id": "_8986VTLEQTi",
        "outputId": "2023e0f3-8c21-485e-d0cd-96d268f8334a"
      },
      "execution_count": 17,
      "outputs": [
        {
          "output_type": "execute_result",
          "data": {
            "text/plain": [
              "array(['code', 'ClumpThickness', 'UniformityCellSize',\n",
              "       'UniformityCellShape', 'MarginalAdhesion',\n",
              "       'SingleEpithelialCellSize', 'BareNuclei', 'BlandChromatin',\n",
              "       'NormalNucleoli', 'Mitoses', 'Class'], dtype=object)"
            ]
          },
          "metadata": {},
          "execution_count": 17
        }
      ]
    },
    {
      "cell_type": "code",
      "source": [
        "df = df.drop(\"code\", axis=1)\n",
        "df"
      ],
      "metadata": {
        "colab": {
          "base_uri": "https://localhost:8080/",
          "height": 424
        },
        "id": "iRtlAdbFDSm9",
        "outputId": "a1c93641-1460-4bb9-f415-a2c918c61a99"
      },
      "execution_count": 18,
      "outputs": [
        {
          "output_type": "execute_result",
          "data": {
            "text/plain": [
              "     ClumpThickness  UniformityCellSize  UniformityCellShape  \\\n",
              "0                 5                   1                    1   \n",
              "1                 5                   4                    4   \n",
              "2                 3                   1                    1   \n",
              "3                 6                   8                    8   \n",
              "4                 4                   1                    1   \n",
              "..              ...                 ...                  ...   \n",
              "694               3                   1                    1   \n",
              "695               2                   1                    1   \n",
              "696               5                  10                   10   \n",
              "697               4                   8                    6   \n",
              "698               4                   8                    8   \n",
              "\n",
              "     MarginalAdhesion  SingleEpithelialCellSize  BareNuclei  BlandChromatin  \\\n",
              "0                   1                         2           1               3   \n",
              "1                   5                         7          10               3   \n",
              "2                   1                         2           2               3   \n",
              "3                   1                         3           4               3   \n",
              "4                   3                         2           1               3   \n",
              "..                ...                       ...         ...             ...   \n",
              "694                 1                         3           2               1   \n",
              "695                 1                         2           1               1   \n",
              "696                 3                         7           3               8   \n",
              "697                 4                         3           4              10   \n",
              "698                 5                         4           5              10   \n",
              "\n",
              "     NormalNucleoli  Mitoses  Class  \n",
              "0                 1        1      0  \n",
              "1                 2        1      0  \n",
              "2                 1        1      0  \n",
              "3                 7        1      0  \n",
              "4                 1        1      0  \n",
              "..              ...      ...    ...  \n",
              "694               1        1      0  \n",
              "695               1        1      0  \n",
              "696              10        2      1  \n",
              "697               6        1      1  \n",
              "698               4        1      1  \n",
              "\n",
              "[699 rows x 10 columns]"
            ],
            "text/html": [
              "\n",
              "  <div id=\"df-0006612b-6780-4f1e-8d7f-1a7a9d1179fe\">\n",
              "    <div class=\"colab-df-container\">\n",
              "      <div>\n",
              "<style scoped>\n",
              "    .dataframe tbody tr th:only-of-type {\n",
              "        vertical-align: middle;\n",
              "    }\n",
              "\n",
              "    .dataframe tbody tr th {\n",
              "        vertical-align: top;\n",
              "    }\n",
              "\n",
              "    .dataframe thead th {\n",
              "        text-align: right;\n",
              "    }\n",
              "</style>\n",
              "<table border=\"1\" class=\"dataframe\">\n",
              "  <thead>\n",
              "    <tr style=\"text-align: right;\">\n",
              "      <th></th>\n",
              "      <th>ClumpThickness</th>\n",
              "      <th>UniformityCellSize</th>\n",
              "      <th>UniformityCellShape</th>\n",
              "      <th>MarginalAdhesion</th>\n",
              "      <th>SingleEpithelialCellSize</th>\n",
              "      <th>BareNuclei</th>\n",
              "      <th>BlandChromatin</th>\n",
              "      <th>NormalNucleoli</th>\n",
              "      <th>Mitoses</th>\n",
              "      <th>Class</th>\n",
              "    </tr>\n",
              "  </thead>\n",
              "  <tbody>\n",
              "    <tr>\n",
              "      <th>0</th>\n",
              "      <td>5</td>\n",
              "      <td>1</td>\n",
              "      <td>1</td>\n",
              "      <td>1</td>\n",
              "      <td>2</td>\n",
              "      <td>1</td>\n",
              "      <td>3</td>\n",
              "      <td>1</td>\n",
              "      <td>1</td>\n",
              "      <td>0</td>\n",
              "    </tr>\n",
              "    <tr>\n",
              "      <th>1</th>\n",
              "      <td>5</td>\n",
              "      <td>4</td>\n",
              "      <td>4</td>\n",
              "      <td>5</td>\n",
              "      <td>7</td>\n",
              "      <td>10</td>\n",
              "      <td>3</td>\n",
              "      <td>2</td>\n",
              "      <td>1</td>\n",
              "      <td>0</td>\n",
              "    </tr>\n",
              "    <tr>\n",
              "      <th>2</th>\n",
              "      <td>3</td>\n",
              "      <td>1</td>\n",
              "      <td>1</td>\n",
              "      <td>1</td>\n",
              "      <td>2</td>\n",
              "      <td>2</td>\n",
              "      <td>3</td>\n",
              "      <td>1</td>\n",
              "      <td>1</td>\n",
              "      <td>0</td>\n",
              "    </tr>\n",
              "    <tr>\n",
              "      <th>3</th>\n",
              "      <td>6</td>\n",
              "      <td>8</td>\n",
              "      <td>8</td>\n",
              "      <td>1</td>\n",
              "      <td>3</td>\n",
              "      <td>4</td>\n",
              "      <td>3</td>\n",
              "      <td>7</td>\n",
              "      <td>1</td>\n",
              "      <td>0</td>\n",
              "    </tr>\n",
              "    <tr>\n",
              "      <th>4</th>\n",
              "      <td>4</td>\n",
              "      <td>1</td>\n",
              "      <td>1</td>\n",
              "      <td>3</td>\n",
              "      <td>2</td>\n",
              "      <td>1</td>\n",
              "      <td>3</td>\n",
              "      <td>1</td>\n",
              "      <td>1</td>\n",
              "      <td>0</td>\n",
              "    </tr>\n",
              "    <tr>\n",
              "      <th>...</th>\n",
              "      <td>...</td>\n",
              "      <td>...</td>\n",
              "      <td>...</td>\n",
              "      <td>...</td>\n",
              "      <td>...</td>\n",
              "      <td>...</td>\n",
              "      <td>...</td>\n",
              "      <td>...</td>\n",
              "      <td>...</td>\n",
              "      <td>...</td>\n",
              "    </tr>\n",
              "    <tr>\n",
              "      <th>694</th>\n",
              "      <td>3</td>\n",
              "      <td>1</td>\n",
              "      <td>1</td>\n",
              "      <td>1</td>\n",
              "      <td>3</td>\n",
              "      <td>2</td>\n",
              "      <td>1</td>\n",
              "      <td>1</td>\n",
              "      <td>1</td>\n",
              "      <td>0</td>\n",
              "    </tr>\n",
              "    <tr>\n",
              "      <th>695</th>\n",
              "      <td>2</td>\n",
              "      <td>1</td>\n",
              "      <td>1</td>\n",
              "      <td>1</td>\n",
              "      <td>2</td>\n",
              "      <td>1</td>\n",
              "      <td>1</td>\n",
              "      <td>1</td>\n",
              "      <td>1</td>\n",
              "      <td>0</td>\n",
              "    </tr>\n",
              "    <tr>\n",
              "      <th>696</th>\n",
              "      <td>5</td>\n",
              "      <td>10</td>\n",
              "      <td>10</td>\n",
              "      <td>3</td>\n",
              "      <td>7</td>\n",
              "      <td>3</td>\n",
              "      <td>8</td>\n",
              "      <td>10</td>\n",
              "      <td>2</td>\n",
              "      <td>1</td>\n",
              "    </tr>\n",
              "    <tr>\n",
              "      <th>697</th>\n",
              "      <td>4</td>\n",
              "      <td>8</td>\n",
              "      <td>6</td>\n",
              "      <td>4</td>\n",
              "      <td>3</td>\n",
              "      <td>4</td>\n",
              "      <td>10</td>\n",
              "      <td>6</td>\n",
              "      <td>1</td>\n",
              "      <td>1</td>\n",
              "    </tr>\n",
              "    <tr>\n",
              "      <th>698</th>\n",
              "      <td>4</td>\n",
              "      <td>8</td>\n",
              "      <td>8</td>\n",
              "      <td>5</td>\n",
              "      <td>4</td>\n",
              "      <td>5</td>\n",
              "      <td>10</td>\n",
              "      <td>4</td>\n",
              "      <td>1</td>\n",
              "      <td>1</td>\n",
              "    </tr>\n",
              "  </tbody>\n",
              "</table>\n",
              "<p>699 rows × 10 columns</p>\n",
              "</div>\n",
              "      <button class=\"colab-df-convert\" onclick=\"convertToInteractive('df-0006612b-6780-4f1e-8d7f-1a7a9d1179fe')\"\n",
              "              title=\"Convert this dataframe to an interactive table.\"\n",
              "              style=\"display:none;\">\n",
              "        \n",
              "  <svg xmlns=\"http://www.w3.org/2000/svg\" height=\"24px\"viewBox=\"0 0 24 24\"\n",
              "       width=\"24px\">\n",
              "    <path d=\"M0 0h24v24H0V0z\" fill=\"none\"/>\n",
              "    <path d=\"M18.56 5.44l.94 2.06.94-2.06 2.06-.94-2.06-.94-.94-2.06-.94 2.06-2.06.94zm-11 1L8.5 8.5l.94-2.06 2.06-.94-2.06-.94L8.5 2.5l-.94 2.06-2.06.94zm10 10l.94 2.06.94-2.06 2.06-.94-2.06-.94-.94-2.06-.94 2.06-2.06.94z\"/><path d=\"M17.41 7.96l-1.37-1.37c-.4-.4-.92-.59-1.43-.59-.52 0-1.04.2-1.43.59L10.3 9.45l-7.72 7.72c-.78.78-.78 2.05 0 2.83L4 21.41c.39.39.9.59 1.41.59.51 0 1.02-.2 1.41-.59l7.78-7.78 2.81-2.81c.8-.78.8-2.07 0-2.86zM5.41 20L4 18.59l7.72-7.72 1.47 1.35L5.41 20z\"/>\n",
              "  </svg>\n",
              "      </button>\n",
              "      \n",
              "  <style>\n",
              "    .colab-df-container {\n",
              "      display:flex;\n",
              "      flex-wrap:wrap;\n",
              "      gap: 12px;\n",
              "    }\n",
              "\n",
              "    .colab-df-convert {\n",
              "      background-color: #E8F0FE;\n",
              "      border: none;\n",
              "      border-radius: 50%;\n",
              "      cursor: pointer;\n",
              "      display: none;\n",
              "      fill: #1967D2;\n",
              "      height: 32px;\n",
              "      padding: 0 0 0 0;\n",
              "      width: 32px;\n",
              "    }\n",
              "\n",
              "    .colab-df-convert:hover {\n",
              "      background-color: #E2EBFA;\n",
              "      box-shadow: 0px 1px 2px rgba(60, 64, 67, 0.3), 0px 1px 3px 1px rgba(60, 64, 67, 0.15);\n",
              "      fill: #174EA6;\n",
              "    }\n",
              "\n",
              "    [theme=dark] .colab-df-convert {\n",
              "      background-color: #3B4455;\n",
              "      fill: #D2E3FC;\n",
              "    }\n",
              "\n",
              "    [theme=dark] .colab-df-convert:hover {\n",
              "      background-color: #434B5C;\n",
              "      box-shadow: 0px 1px 3px 1px rgba(0, 0, 0, 0.15);\n",
              "      filter: drop-shadow(0px 1px 2px rgba(0, 0, 0, 0.3));\n",
              "      fill: #FFFFFF;\n",
              "    }\n",
              "  </style>\n",
              "\n",
              "      <script>\n",
              "        const buttonEl =\n",
              "          document.querySelector('#df-0006612b-6780-4f1e-8d7f-1a7a9d1179fe button.colab-df-convert');\n",
              "        buttonEl.style.display =\n",
              "          google.colab.kernel.accessAllowed ? 'block' : 'none';\n",
              "\n",
              "        async function convertToInteractive(key) {\n",
              "          const element = document.querySelector('#df-0006612b-6780-4f1e-8d7f-1a7a9d1179fe');\n",
              "          const dataTable =\n",
              "            await google.colab.kernel.invokeFunction('convertToInteractive',\n",
              "                                                     [key], {});\n",
              "          if (!dataTable) return;\n",
              "\n",
              "          const docLinkHtml = 'Like what you see? Visit the ' +\n",
              "            '<a target=\"_blank\" href=https://colab.research.google.com/notebooks/data_table.ipynb>data table notebook</a>'\n",
              "            + ' to learn more about interactive tables.';\n",
              "          element.innerHTML = '';\n",
              "          dataTable['output_type'] = 'display_data';\n",
              "          await google.colab.output.renderOutput(dataTable, element);\n",
              "          const docLink = document.createElement('div');\n",
              "          docLink.innerHTML = docLinkHtml;\n",
              "          element.appendChild(docLink);\n",
              "        }\n",
              "      </script>\n",
              "    </div>\n",
              "  </div>\n",
              "  "
            ]
          },
          "metadata": {},
          "execution_count": 18
        }
      ]
    },
    {
      "cell_type": "code",
      "source": [
        "X = df.iloc[:, :-1].values\n",
        "y = df.iloc[:, -1].values"
      ],
      "metadata": {
        "id": "lUBBubBnE_21"
      },
      "execution_count": 19,
      "outputs": []
    },
    {
      "cell_type": "code",
      "source": [
        "train_data, test_data, train_labels, test_labels = train_test_split(X, y, \n",
        "                       train_size=0.7,\n",
        "                       test_size=0.3,\n",
        "                       random_state=42,\n",
        "                       stratify=y)"
      ],
      "metadata": {
        "id": "O1BTQ78IFDV7"
      },
      "execution_count": 27,
      "outputs": []
    },
    {
      "cell_type": "code",
      "source": [
        "print('All:', np.bincount(y) / float(len(y)) * 100.0)\n",
        "print('Training:', np.bincount(train_labels) / float(len(train_labels)) * 100.0)\n",
        "print('Test:', np.bincount(test_labels) / float(len(test_labels)) * 100.0)\n",
        "     "
      ],
      "metadata": {
        "colab": {
          "base_uri": "https://localhost:8080/"
        },
        "id": "xaaMeay5FUgk",
        "outputId": "74602150-e985-4fed-d404-c4c7fe506bc8"
      },
      "execution_count": 28,
      "outputs": [
        {
          "output_type": "stream",
          "name": "stdout",
          "text": [
            "All: [65.52217454 34.47782546]\n",
            "Training: [65.4396728 34.5603272]\n",
            "Test: [65.71428571 34.28571429]\n"
          ]
        }
      ]
    },
    {
      "cell_type": "code",
      "source": [
        "print('Train date:', len(train_data))\n",
        "print('Test date:', len(test_data))"
      ],
      "metadata": {
        "colab": {
          "base_uri": "https://localhost:8080/"
        },
        "id": "dSWi0GDGFcgt",
        "outputId": "f762e23f-cecc-4717-ccb9-6b69c3b1998c"
      },
      "execution_count": 29,
      "outputs": [
        {
          "output_type": "stream",
          "name": "stdout",
          "text": [
            "Train date: 489\n",
            "Test date: 210\n"
          ]
        }
      ]
    },
    {
      "cell_type": "code",
      "source": [
        "# Import the sequential model and dense layer\n",
        "from tensorflow.keras.models import Sequential\n",
        "from tensorflow.keras.layers import Dense"
      ],
      "metadata": {
        "id": "bEiAIt6OGCIR"
      },
      "execution_count": 30,
      "outputs": []
    },
    {
      "cell_type": "markdown",
      "source": [
        "\n",
        "\n",
        "---\n",
        "\n"
      ],
      "metadata": {
        "id": "5tYG_QT7KEla"
      }
    },
    {
      "cell_type": "markdown",
      "source": [
        "**Neural network with 2 hidden layers and 1 output layer**"
      ],
      "metadata": {
        "id": "97mJ46nSJ6sg"
      }
    },
    {
      "cell_type": "code",
      "source": [
        "# Create a sequential model\n",
        "model1 = Sequential()"
      ],
      "metadata": {
        "id": "bffikiTDGHfS"
      },
      "execution_count": 32,
      "outputs": []
    },
    {
      "cell_type": "code",
      "source": [
        "# neural network architecture\n",
        "model1 = Sequential()\n",
        "model1.add(Dense(12, input_dim=9, activation='relu'))\n",
        "model1.add(Dense(8, activation='relu'))\n",
        "model1.add(Dense(1, activation='sigmoid'))\n"
      ],
      "metadata": {
        "id": "UgRlncfaGLGw"
      },
      "execution_count": 50,
      "outputs": []
    },
    {
      "cell_type": "code",
      "source": [
        "# Compile your model\n",
        "model1.compile(loss='binary_crossentropy', optimizer='sgd', metrics=['accuracy'])"
      ],
      "metadata": {
        "id": "R31LVSIYGUqm"
      },
      "execution_count": 51,
      "outputs": []
    },
    {
      "cell_type": "code",
      "source": [
        "# Display a summary of your model\n",
        "model1.summary()"
      ],
      "metadata": {
        "colab": {
          "base_uri": "https://localhost:8080/"
        },
        "id": "fCa3QimxGXcL",
        "outputId": "16fd8abd-31dd-4d01-b745-c90fe318592d"
      },
      "execution_count": 52,
      "outputs": [
        {
          "output_type": "stream",
          "name": "stdout",
          "text": [
            "Model: \"sequential_2\"\n",
            "_________________________________________________________________\n",
            " Layer (type)                Output Shape              Param #   \n",
            "=================================================================\n",
            " dense_5 (Dense)             (None, 12)                120       \n",
            "                                                                 \n",
            " dense_6 (Dense)             (None, 8)                 104       \n",
            "                                                                 \n",
            " dense_7 (Dense)             (None, 1)                 9         \n",
            "                                                                 \n",
            "=================================================================\n",
            "Total params: 233\n",
            "Trainable params: 233\n",
            "Non-trainable params: 0\n",
            "_________________________________________________________________\n"
          ]
        }
      ]
    },
    {
      "cell_type": "code",
      "source": [
        "# Train your model for 20 epochs\n",
        "history_model1 = model1.fit(train_data, train_labels, validation_data=(test_data, test_labels), epochs = 100)"
      ],
      "metadata": {
        "colab": {
          "base_uri": "https://localhost:8080/"
        },
        "id": "EzWF8EX4Ga2Z",
        "outputId": "7d5dcc4f-5a4e-4f7c-85af-cd8fd8a94ee7"
      },
      "execution_count": 92,
      "outputs": [
        {
          "output_type": "stream",
          "name": "stdout",
          "text": [
            "Epoch 1/100\n",
            "16/16 [==============================] - 1s 32ms/step - loss: 0.0960 - accuracy: 0.9775 - val_loss: 0.1865 - val_accuracy: 0.9476\n",
            "Epoch 2/100\n",
            "16/16 [==============================] - 0s 6ms/step - loss: 0.0961 - accuracy: 0.9775 - val_loss: 0.1863 - val_accuracy: 0.9476\n",
            "Epoch 3/100\n",
            "16/16 [==============================] - 0s 5ms/step - loss: 0.0948 - accuracy: 0.9775 - val_loss: 0.1858 - val_accuracy: 0.9429\n",
            "Epoch 4/100\n",
            "16/16 [==============================] - 0s 4ms/step - loss: 0.0955 - accuracy: 0.9816 - val_loss: 0.1903 - val_accuracy: 0.9429\n",
            "Epoch 5/100\n",
            "16/16 [==============================] - 0s 4ms/step - loss: 0.0972 - accuracy: 0.9796 - val_loss: 0.1844 - val_accuracy: 0.9476\n",
            "Epoch 6/100\n",
            "16/16 [==============================] - 0s 4ms/step - loss: 0.0942 - accuracy: 0.9755 - val_loss: 0.1840 - val_accuracy: 0.9476\n",
            "Epoch 7/100\n",
            "16/16 [==============================] - 0s 4ms/step - loss: 0.0934 - accuracy: 0.9775 - val_loss: 0.1844 - val_accuracy: 0.9476\n",
            "Epoch 8/100\n",
            "16/16 [==============================] - 0s 4ms/step - loss: 0.0928 - accuracy: 0.9796 - val_loss: 0.1842 - val_accuracy: 0.9476\n",
            "Epoch 9/100\n",
            "16/16 [==============================] - 0s 4ms/step - loss: 0.0934 - accuracy: 0.9775 - val_loss: 0.1854 - val_accuracy: 0.9524\n",
            "Epoch 10/100\n",
            "16/16 [==============================] - 0s 4ms/step - loss: 0.0924 - accuracy: 0.9775 - val_loss: 0.1834 - val_accuracy: 0.9429\n",
            "Epoch 11/100\n",
            "16/16 [==============================] - 0s 4ms/step - loss: 0.0921 - accuracy: 0.9796 - val_loss: 0.1830 - val_accuracy: 0.9429\n",
            "Epoch 12/100\n",
            "16/16 [==============================] - 0s 4ms/step - loss: 0.0921 - accuracy: 0.9796 - val_loss: 0.1827 - val_accuracy: 0.9476\n",
            "Epoch 13/100\n",
            "16/16 [==============================] - 0s 4ms/step - loss: 0.0916 - accuracy: 0.9796 - val_loss: 0.1829 - val_accuracy: 0.9476\n",
            "Epoch 14/100\n",
            "16/16 [==============================] - 0s 4ms/step - loss: 0.0913 - accuracy: 0.9775 - val_loss: 0.1830 - val_accuracy: 0.9381\n",
            "Epoch 15/100\n",
            "16/16 [==============================] - 0s 5ms/step - loss: 0.0906 - accuracy: 0.9796 - val_loss: 0.1812 - val_accuracy: 0.9476\n",
            "Epoch 16/100\n",
            "16/16 [==============================] - 0s 4ms/step - loss: 0.0892 - accuracy: 0.9816 - val_loss: 0.1924 - val_accuracy: 0.9429\n",
            "Epoch 17/100\n",
            "16/16 [==============================] - 0s 4ms/step - loss: 0.0933 - accuracy: 0.9796 - val_loss: 0.1797 - val_accuracy: 0.9476\n",
            "Epoch 18/100\n",
            "16/16 [==============================] - 0s 4ms/step - loss: 0.0910 - accuracy: 0.9816 - val_loss: 0.1798 - val_accuracy: 0.9476\n",
            "Epoch 19/100\n",
            "16/16 [==============================] - 0s 4ms/step - loss: 0.0893 - accuracy: 0.9816 - val_loss: 0.1797 - val_accuracy: 0.9476\n",
            "Epoch 20/100\n",
            "16/16 [==============================] - 0s 4ms/step - loss: 0.0894 - accuracy: 0.9816 - val_loss: 0.1801 - val_accuracy: 0.9476\n",
            "Epoch 21/100\n",
            "16/16 [==============================] - 0s 4ms/step - loss: 0.0892 - accuracy: 0.9796 - val_loss: 0.1807 - val_accuracy: 0.9524\n",
            "Epoch 22/100\n",
            "16/16 [==============================] - 0s 4ms/step - loss: 0.0893 - accuracy: 0.9816 - val_loss: 0.1788 - val_accuracy: 0.9476\n",
            "Epoch 23/100\n",
            "16/16 [==============================] - 0s 4ms/step - loss: 0.0873 - accuracy: 0.9816 - val_loss: 0.1791 - val_accuracy: 0.9476\n",
            "Epoch 24/100\n",
            "16/16 [==============================] - 0s 5ms/step - loss: 0.0876 - accuracy: 0.9816 - val_loss: 0.1779 - val_accuracy: 0.9476\n",
            "Epoch 25/100\n",
            "16/16 [==============================] - 0s 4ms/step - loss: 0.0872 - accuracy: 0.9836 - val_loss: 0.1790 - val_accuracy: 0.9381\n",
            "Epoch 26/100\n",
            "16/16 [==============================] - 0s 5ms/step - loss: 0.0865 - accuracy: 0.9796 - val_loss: 0.1775 - val_accuracy: 0.9476\n",
            "Epoch 27/100\n",
            "16/16 [==============================] - 0s 4ms/step - loss: 0.0854 - accuracy: 0.9836 - val_loss: 0.1822 - val_accuracy: 0.9429\n",
            "Epoch 28/100\n",
            "16/16 [==============================] - 0s 4ms/step - loss: 0.0872 - accuracy: 0.9836 - val_loss: 0.1773 - val_accuracy: 0.9476\n",
            "Epoch 29/100\n",
            "16/16 [==============================] - 0s 4ms/step - loss: 0.0866 - accuracy: 0.9796 - val_loss: 0.1761 - val_accuracy: 0.9476\n",
            "Epoch 30/100\n",
            "16/16 [==============================] - 0s 4ms/step - loss: 0.0853 - accuracy: 0.9796 - val_loss: 0.1761 - val_accuracy: 0.9476\n",
            "Epoch 31/100\n",
            "16/16 [==============================] - 0s 4ms/step - loss: 0.0853 - accuracy: 0.9796 - val_loss: 0.1760 - val_accuracy: 0.9476\n",
            "Epoch 32/100\n",
            "16/16 [==============================] - 0s 4ms/step - loss: 0.0853 - accuracy: 0.9836 - val_loss: 0.1755 - val_accuracy: 0.9476\n",
            "Epoch 33/100\n",
            "16/16 [==============================] - 0s 4ms/step - loss: 0.0850 - accuracy: 0.9816 - val_loss: 0.1752 - val_accuracy: 0.9476\n",
            "Epoch 34/100\n",
            "16/16 [==============================] - 0s 4ms/step - loss: 0.0841 - accuracy: 0.9816 - val_loss: 0.1760 - val_accuracy: 0.9476\n",
            "Epoch 35/100\n",
            "16/16 [==============================] - 0s 4ms/step - loss: 0.0851 - accuracy: 0.9816 - val_loss: 0.1755 - val_accuracy: 0.9429\n",
            "Epoch 36/100\n",
            "16/16 [==============================] - 0s 4ms/step - loss: 0.0841 - accuracy: 0.9816 - val_loss: 0.1746 - val_accuracy: 0.9476\n",
            "Epoch 37/100\n",
            "16/16 [==============================] - 0s 4ms/step - loss: 0.0842 - accuracy: 0.9816 - val_loss: 0.1763 - val_accuracy: 0.9524\n",
            "Epoch 38/100\n",
            "16/16 [==============================] - 0s 4ms/step - loss: 0.0839 - accuracy: 0.9816 - val_loss: 0.1743 - val_accuracy: 0.9476\n",
            "Epoch 39/100\n",
            "16/16 [==============================] - 0s 4ms/step - loss: 0.0832 - accuracy: 0.9816 - val_loss: 0.1788 - val_accuracy: 0.9429\n",
            "Epoch 40/100\n",
            "16/16 [==============================] - 0s 4ms/step - loss: 0.0828 - accuracy: 0.9755 - val_loss: 0.1749 - val_accuracy: 0.9524\n",
            "Epoch 41/100\n",
            "16/16 [==============================] - 0s 4ms/step - loss: 0.0825 - accuracy: 0.9816 - val_loss: 0.1753 - val_accuracy: 0.9524\n",
            "Epoch 42/100\n",
            "16/16 [==============================] - 0s 4ms/step - loss: 0.0825 - accuracy: 0.9796 - val_loss: 0.1746 - val_accuracy: 0.9476\n",
            "Epoch 43/100\n",
            "16/16 [==============================] - 0s 4ms/step - loss: 0.0814 - accuracy: 0.9836 - val_loss: 0.1733 - val_accuracy: 0.9476\n",
            "Epoch 44/100\n",
            "16/16 [==============================] - 0s 5ms/step - loss: 0.0820 - accuracy: 0.9816 - val_loss: 0.1726 - val_accuracy: 0.9429\n",
            "Epoch 45/100\n",
            "16/16 [==============================] - 0s 5ms/step - loss: 0.0818 - accuracy: 0.9816 - val_loss: 0.1724 - val_accuracy: 0.9429\n",
            "Epoch 46/100\n",
            "16/16 [==============================] - 0s 5ms/step - loss: 0.0820 - accuracy: 0.9816 - val_loss: 0.1721 - val_accuracy: 0.9476\n",
            "Epoch 47/100\n",
            "16/16 [==============================] - 0s 4ms/step - loss: 0.0804 - accuracy: 0.9836 - val_loss: 0.1720 - val_accuracy: 0.9429\n",
            "Epoch 48/100\n",
            "16/16 [==============================] - 0s 5ms/step - loss: 0.0807 - accuracy: 0.9816 - val_loss: 0.1728 - val_accuracy: 0.9476\n",
            "Epoch 49/100\n",
            "16/16 [==============================] - 0s 4ms/step - loss: 0.0811 - accuracy: 0.9816 - val_loss: 0.1717 - val_accuracy: 0.9476\n",
            "Epoch 50/100\n",
            "16/16 [==============================] - 0s 4ms/step - loss: 0.0803 - accuracy: 0.9836 - val_loss: 0.1711 - val_accuracy: 0.9429\n",
            "Epoch 51/100\n",
            "16/16 [==============================] - 0s 4ms/step - loss: 0.0798 - accuracy: 0.9816 - val_loss: 0.1717 - val_accuracy: 0.9476\n",
            "Epoch 52/100\n",
            "16/16 [==============================] - 0s 4ms/step - loss: 0.0797 - accuracy: 0.9836 - val_loss: 0.1709 - val_accuracy: 0.9429\n",
            "Epoch 53/100\n",
            "16/16 [==============================] - 0s 4ms/step - loss: 0.0792 - accuracy: 0.9816 - val_loss: 0.1714 - val_accuracy: 0.9476\n",
            "Epoch 54/100\n",
            "16/16 [==============================] - 0s 4ms/step - loss: 0.0801 - accuracy: 0.9816 - val_loss: 0.1704 - val_accuracy: 0.9429\n",
            "Epoch 55/100\n",
            "16/16 [==============================] - 0s 4ms/step - loss: 0.0794 - accuracy: 0.9816 - val_loss: 0.1703 - val_accuracy: 0.9429\n",
            "Epoch 56/100\n",
            "16/16 [==============================] - 0s 4ms/step - loss: 0.0778 - accuracy: 0.9816 - val_loss: 0.1710 - val_accuracy: 0.9476\n",
            "Epoch 57/100\n",
            "16/16 [==============================] - 0s 4ms/step - loss: 0.0777 - accuracy: 0.9836 - val_loss: 0.1697 - val_accuracy: 0.9429\n",
            "Epoch 58/100\n",
            "16/16 [==============================] - 0s 4ms/step - loss: 0.0788 - accuracy: 0.9816 - val_loss: 0.1699 - val_accuracy: 0.9429\n",
            "Epoch 59/100\n",
            "16/16 [==============================] - 0s 4ms/step - loss: 0.0777 - accuracy: 0.9816 - val_loss: 0.1698 - val_accuracy: 0.9429\n",
            "Epoch 60/100\n",
            "16/16 [==============================] - 0s 4ms/step - loss: 0.0773 - accuracy: 0.9816 - val_loss: 0.1707 - val_accuracy: 0.9476\n",
            "Epoch 61/100\n",
            "16/16 [==============================] - 0s 4ms/step - loss: 0.0774 - accuracy: 0.9836 - val_loss: 0.1695 - val_accuracy: 0.9429\n",
            "Epoch 62/100\n",
            "16/16 [==============================] - 0s 4ms/step - loss: 0.0767 - accuracy: 0.9836 - val_loss: 0.1696 - val_accuracy: 0.9476\n",
            "Epoch 63/100\n",
            "16/16 [==============================] - 0s 4ms/step - loss: 0.0769 - accuracy: 0.9836 - val_loss: 0.1692 - val_accuracy: 0.9429\n",
            "Epoch 64/100\n",
            "16/16 [==============================] - 0s 4ms/step - loss: 0.0784 - accuracy: 0.9816 - val_loss: 0.1687 - val_accuracy: 0.9429\n",
            "Epoch 65/100\n",
            "16/16 [==============================] - 0s 4ms/step - loss: 0.0770 - accuracy: 0.9816 - val_loss: 0.1702 - val_accuracy: 0.9476\n",
            "Epoch 66/100\n",
            "16/16 [==============================] - 0s 4ms/step - loss: 0.0756 - accuracy: 0.9816 - val_loss: 0.1765 - val_accuracy: 0.9476\n",
            "Epoch 67/100\n",
            "16/16 [==============================] - 0s 4ms/step - loss: 0.0780 - accuracy: 0.9775 - val_loss: 0.1667 - val_accuracy: 0.9429\n",
            "Epoch 68/100\n",
            "16/16 [==============================] - 0s 4ms/step - loss: 0.0753 - accuracy: 0.9816 - val_loss: 0.1690 - val_accuracy: 0.9429\n",
            "Epoch 69/100\n",
            "16/16 [==============================] - 0s 4ms/step - loss: 0.0756 - accuracy: 0.9796 - val_loss: 0.1668 - val_accuracy: 0.9476\n",
            "Epoch 70/100\n",
            "16/16 [==============================] - 0s 4ms/step - loss: 0.0757 - accuracy: 0.9836 - val_loss: 0.1665 - val_accuracy: 0.9476\n",
            "Epoch 71/100\n",
            "16/16 [==============================] - 0s 5ms/step - loss: 0.0754 - accuracy: 0.9816 - val_loss: 0.1662 - val_accuracy: 0.9429\n",
            "Epoch 72/100\n",
            "16/16 [==============================] - 0s 5ms/step - loss: 0.0754 - accuracy: 0.9816 - val_loss: 0.1681 - val_accuracy: 0.9476\n",
            "Epoch 73/100\n",
            "16/16 [==============================] - 0s 4ms/step - loss: 0.0766 - accuracy: 0.9836 - val_loss: 0.1652 - val_accuracy: 0.9476\n",
            "Epoch 74/100\n",
            "16/16 [==============================] - 0s 5ms/step - loss: 0.0735 - accuracy: 0.9816 - val_loss: 0.1663 - val_accuracy: 0.9476\n",
            "Epoch 75/100\n",
            "16/16 [==============================] - 0s 4ms/step - loss: 0.0740 - accuracy: 0.9816 - val_loss: 0.1667 - val_accuracy: 0.9429\n",
            "Epoch 76/100\n",
            "16/16 [==============================] - 0s 4ms/step - loss: 0.0748 - accuracy: 0.9796 - val_loss: 0.1653 - val_accuracy: 0.9381\n",
            "Epoch 77/100\n",
            "16/16 [==============================] - 0s 4ms/step - loss: 0.0762 - accuracy: 0.9816 - val_loss: 0.1651 - val_accuracy: 0.9429\n",
            "Epoch 78/100\n",
            "16/16 [==============================] - 0s 5ms/step - loss: 0.0743 - accuracy: 0.9816 - val_loss: 0.1645 - val_accuracy: 0.9429\n",
            "Epoch 79/100\n",
            "16/16 [==============================] - 0s 4ms/step - loss: 0.0737 - accuracy: 0.9816 - val_loss: 0.1651 - val_accuracy: 0.9476\n",
            "Epoch 80/100\n",
            "16/16 [==============================] - 0s 4ms/step - loss: 0.0737 - accuracy: 0.9816 - val_loss: 0.1647 - val_accuracy: 0.9429\n",
            "Epoch 81/100\n",
            "16/16 [==============================] - 0s 5ms/step - loss: 0.0726 - accuracy: 0.9796 - val_loss: 0.1648 - val_accuracy: 0.9429\n",
            "Epoch 82/100\n",
            "16/16 [==============================] - 0s 4ms/step - loss: 0.0733 - accuracy: 0.9816 - val_loss: 0.1646 - val_accuracy: 0.9429\n",
            "Epoch 83/100\n",
            "16/16 [==============================] - 0s 4ms/step - loss: 0.0726 - accuracy: 0.9816 - val_loss: 0.1663 - val_accuracy: 0.9429\n",
            "Epoch 84/100\n",
            "16/16 [==============================] - 0s 4ms/step - loss: 0.0738 - accuracy: 0.9816 - val_loss: 0.1646 - val_accuracy: 0.9429\n",
            "Epoch 85/100\n",
            "16/16 [==============================] - 0s 5ms/step - loss: 0.0726 - accuracy: 0.9796 - val_loss: 0.1645 - val_accuracy: 0.9429\n",
            "Epoch 86/100\n",
            "16/16 [==============================] - 0s 4ms/step - loss: 0.0726 - accuracy: 0.9816 - val_loss: 0.1664 - val_accuracy: 0.9429\n",
            "Epoch 87/100\n",
            "16/16 [==============================] - 0s 4ms/step - loss: 0.0712 - accuracy: 0.9816 - val_loss: 0.1657 - val_accuracy: 0.9429\n",
            "Epoch 88/100\n",
            "16/16 [==============================] - 0s 4ms/step - loss: 0.0711 - accuracy: 0.9836 - val_loss: 0.1656 - val_accuracy: 0.9429\n",
            "Epoch 89/100\n",
            "16/16 [==============================] - 0s 4ms/step - loss: 0.0750 - accuracy: 0.9796 - val_loss: 0.1650 - val_accuracy: 0.9476\n",
            "Epoch 90/100\n",
            "16/16 [==============================] - 0s 4ms/step - loss: 0.0707 - accuracy: 0.9816 - val_loss: 0.1659 - val_accuracy: 0.9429\n",
            "Epoch 91/100\n",
            "16/16 [==============================] - 0s 4ms/step - loss: 0.0709 - accuracy: 0.9796 - val_loss: 0.1684 - val_accuracy: 0.9429\n",
            "Epoch 92/100\n",
            "16/16 [==============================] - 0s 4ms/step - loss: 0.0730 - accuracy: 0.9816 - val_loss: 0.1632 - val_accuracy: 0.9429\n",
            "Epoch 93/100\n",
            "16/16 [==============================] - 0s 4ms/step - loss: 0.0714 - accuracy: 0.9816 - val_loss: 0.1633 - val_accuracy: 0.9476\n",
            "Epoch 94/100\n",
            "16/16 [==============================] - 0s 4ms/step - loss: 0.0717 - accuracy: 0.9816 - val_loss: 0.1633 - val_accuracy: 0.9429\n",
            "Epoch 95/100\n",
            "16/16 [==============================] - 0s 4ms/step - loss: 0.0700 - accuracy: 0.9816 - val_loss: 0.1633 - val_accuracy: 0.9429\n",
            "Epoch 96/100\n",
            "16/16 [==============================] - 0s 4ms/step - loss: 0.0702 - accuracy: 0.9816 - val_loss: 0.1656 - val_accuracy: 0.9476\n",
            "Epoch 97/100\n",
            "16/16 [==============================] - 0s 5ms/step - loss: 0.0706 - accuracy: 0.9816 - val_loss: 0.1638 - val_accuracy: 0.9476\n",
            "Epoch 98/100\n",
            "16/16 [==============================] - 0s 4ms/step - loss: 0.0683 - accuracy: 0.9836 - val_loss: 0.1679 - val_accuracy: 0.9429\n",
            "Epoch 99/100\n",
            "16/16 [==============================] - 0s 4ms/step - loss: 0.0716 - accuracy: 0.9816 - val_loss: 0.1628 - val_accuracy: 0.9429\n",
            "Epoch 100/100\n",
            "16/16 [==============================] - 0s 5ms/step - loss: 0.0694 - accuracy: 0.9836 - val_loss: 0.1643 - val_accuracy: 0.9381\n"
          ]
        }
      ]
    },
    {
      "cell_type": "code",
      "source": [
        "# Plot train vs test accuracy per epoch\n",
        "plt.figure()\n",
        "# Use the history metrics\n",
        "plt.plot(history_model1.history['accuracy'])\n",
        "plt.plot(history_model1.history['val_accuracy'])\n",
        "# Make it pretty\n",
        "plt.title('Model accuracy')\n",
        "plt.ylabel('Accuracy')\n",
        "plt.xlabel('Epoch')\n",
        "plt.legend(['Train', 'Test'])\n",
        "plt.show()"
      ],
      "metadata": {
        "colab": {
          "base_uri": "https://localhost:8080/",
          "height": 472
        },
        "id": "1yYJMytiPdjp",
        "outputId": "db143963-f8c8-42e2-ccd5-984c47e9380b"
      },
      "execution_count": 93,
      "outputs": [
        {
          "output_type": "display_data",
          "data": {
            "text/plain": [
              "<Figure size 640x480 with 1 Axes>"
            ],
            "image/png": "[encoded data removed]"
          },
          "metadata": {}
        }
      ]
    },
    {
      "cell_type": "code",
      "source": [
        "# Evaluate the model\n",
        "_, accuracy = model1.evaluate(test_data, test_labels)\n",
        "print('Accuracy: %.2f' % (accuracy*100))"
      ],
      "metadata": {
        "colab": {
          "base_uri": "https://localhost:8080/"
        },
        "id": "11H_DkabI0EC",
        "outputId": "770523a7-d698-46f3-c609-3fdea906dde2"
      },
      "execution_count": 94,
      "outputs": [
        {
          "output_type": "stream",
          "name": "stdout",
          "text": [
            "7/7 [==============================] - 0s 2ms/step - loss: 0.1643 - accuracy: 0.9381\n",
            "Accuracy: 93.81\n"
          ]
        }
      ]
    },
    {
      "cell_type": "code",
      "source": [
        "from sklearn.metrics import confusion_matrix\n",
        "\n",
        "# Predict class for test data\n",
        "y_pred = model1.predict(test_data)\n",
        "y_pred = (y_pred > 0.5)\n",
        "\n",
        "# Generate confusion matrix\n",
        "confusion_matrix_m1 = confusion_matrix(test_labels, y_pred)\n",
        "print(confusion_matrix_m1)\n"
      ],
      "metadata": {
        "colab": {
          "base_uri": "https://localhost:8080/"
        },
        "id": "qM2JYleeJJ0p",
        "outputId": "4ac4f0ba-b054-4067-955f-3aa97ce0d9d2"
      },
      "execution_count": 95,
      "outputs": [
        {
          "output_type": "stream",
          "name": "stdout",
          "text": [
            "7/7 [==============================] - 0s 3ms/step\n",
            "[[131   7]\n",
            " [  6  66]]\n"
          ]
        }
      ]
    },
    {
      "cell_type": "code",
      "source": [
        "import matplotlib.pyplot as plt\n",
        "import seaborn as sns\n",
        "\n",
        "#Print confusion matrix\n",
        "plt.figure(figsize = (10,8))\n",
        "sns.heatmap(confusion_matrix_m1, linewidths = 0.1, cmap = 'Blues', linecolor = 'gray', fmt = '.1f', annot = True)\n",
        "plt.xlabel('Predicted classes', fontsize = 20)\n",
        "plt.ylabel('True classes', fontsize = 20)\n",
        "print(confusion_matrix_m1)\n"
      ],
      "metadata": {
        "colab": {
          "base_uri": "https://localhost:8080/",
          "height": 745
        },
        "id": "0uJFu4pRJe4S",
        "outputId": "270cde9b-1ad7-4f56-9075-d2645db79f37"
      },
      "execution_count": 96,
      "outputs": [
        {
          "output_type": "stream",
          "name": "stdout",
          "text": [
            "[[131   7]\n",
            " [  6  66]]\n"
          ]
        },
        {
          "output_type": "display_data",
          "data": {
            "text/plain": [
              "<Figure size 1000x800 with 2 Axes>"
            ],
            "image/png": "[encoded data removed]"
          },
          "metadata": {}
        }
      ]
    },
    {
      "cell_type": "markdown",
      "source": [
        "\n",
        "\n",
        "---\n",
        "\n"
      ],
      "metadata": {
        "id": "zhYG6gQNKTGH"
      }
    },
    {
      "cell_type": "markdown",
      "source": [
        "Neural network v2 -- Same architecture with Adam optimizer and callbacks: {EarlyStopping, ReduceLROnPlateau}"
      ],
      "metadata": {
        "id": "koDy4uiUKRJt"
      }
    },
    {
      "cell_type": "code",
      "source": [
        "# Create a sequential model\n",
        "model2 = Sequential()"
      ],
      "metadata": {
        "id": "u5WblU4IK8LO"
      },
      "execution_count": 98,
      "outputs": []
    },
    {
      "cell_type": "code",
      "source": [
        "# neural network architecture\n",
        "model2 = Sequential()\n",
        "model2.add(Dense(12, input_dim=9, activation='relu'))\n",
        "model2.add(Dense(8, activation='relu'))\n",
        "model2.add(Dense(1, activation='sigmoid'))"
      ],
      "metadata": {
        "id": "tNIdIv25K5WA"
      },
      "execution_count": 99,
      "outputs": []
    },
    {
      "cell_type": "code",
      "source": [
        "from keras.optimizers import Adam\n",
        "\n",
        "#model2.compile(loss='binary_crossentropy', optimizer='sgd', metrics=['accuracy'])\n",
        "model2.compile(optimizer=Adam(lr=0.001), loss='binary_crossentropy', metrics=['accuracy'])"
      ],
      "metadata": {
        "id": "A3gLrGYoLULd"
      },
      "execution_count": 100,
      "outputs": []
    },
    {
      "cell_type": "code",
      "source": [
        "model2.summary()"
      ],
      "metadata": {
        "colab": {
          "base_uri": "https://localhost:8080/"
        },
        "id": "jhcDa3NIL7ss",
        "outputId": "8ea46e5c-f8bb-4874-f2e9-1ea5b265b01e"
      },
      "execution_count": 101,
      "outputs": [
        {
          "output_type": "stream",
          "name": "stdout",
          "text": [
            "Model: \"sequential_8\"\n",
            "_________________________________________________________________\n",
            " Layer (type)                Output Shape              Param #   \n",
            "=================================================================\n",
            " dense_14 (Dense)            (None, 12)                120       \n",
            "                                                                 \n",
            " dense_15 (Dense)            (None, 8)                 104       \n",
            "                                                                 \n",
            " dense_16 (Dense)            (None, 1)                 9         \n",
            "                                                                 \n",
            "=================================================================\n",
            "Total params: 233\n",
            "Trainable params: 233\n",
            "Non-trainable params: 0\n",
            "_________________________________________________________________\n"
          ]
        }
      ]
    },
    {
      "cell_type": "code",
      "source": [
        "from keras.callbacks import EarlyStopping\n",
        "from keras.callbacks import ReduceLROnPlateau\n",
        "\n",
        "es = EarlyStopping(monitor='val_loss', patience=10, verbose=1)\n",
        "rlrop = ReduceLROnPlateau(monitor='val_loss', factor=0.1, patience=5, verbose=1, min_delta=1e-4)"
      ],
      "metadata": {
        "id": "7jJZ3kiOLdIH"
      },
      "execution_count": 102,
      "outputs": []
    },
    {
      "cell_type": "code",
      "source": [
        "# fit model\n",
        "history_model2 = model2.fit(train_data, train_labels,\n",
        "           validation_data=(test_data, test_labels),\n",
        "           epochs = 100, verbose=1, callbacks=[es, rlrop])"
      ],
      "metadata": {
        "colab": {
          "base_uri": "https://localhost:8080/"
        },
        "id": "ychB7Vx5LhxV",
        "outputId": "2b56133d-338f-4692-a4e4-b595f03a87c2"
      },
      "execution_count": 103,
      "outputs": [
        {
          "output_type": "stream",
          "name": "stdout",
          "text": [
            "Epoch 1/100\n",
            "16/16 [==============================] - 1s 15ms/step - loss: 2.3470 - accuracy: 0.6544 - val_loss: 1.9093 - val_accuracy: 0.6571 - lr: 0.0010\n",
            "Epoch 2/100\n",
            "16/16 [==============================] - 0s 5ms/step - loss: 1.6337 - accuracy: 0.6544 - val_loss: 1.3173 - val_accuracy: 0.6571 - lr: 0.0010\n",
            "Epoch 3/100\n",
            "16/16 [==============================] - 0s 4ms/step - loss: 1.1335 - accuracy: 0.6544 - val_loss: 0.9612 - val_accuracy: 0.6571 - lr: 0.0010\n",
            "Epoch 4/100\n",
            "16/16 [==============================] - 0s 4ms/step - loss: 0.8903 - accuracy: 0.4438 - val_loss: 0.7950 - val_accuracy: 0.2190 - lr: 0.0010\n",
            "Epoch 5/100\n",
            "16/16 [==============================] - 0s 5ms/step - loss: 0.7720 - accuracy: 0.2372 - val_loss: 0.7380 - val_accuracy: 0.3000 - lr: 0.0010\n",
            "Epoch 6/100\n",
            "16/16 [==============================] - 0s 4ms/step - loss: 0.7250 - accuracy: 0.3088 - val_loss: 0.7055 - val_accuracy: 0.3286 - lr: 0.0010\n",
            "Epoch 7/100\n",
            "16/16 [==============================] - 0s 5ms/step - loss: 0.6931 - accuracy: 0.3436 - val_loss: 0.6800 - val_accuracy: 0.3667 - lr: 0.0010\n",
            "Epoch 8/100\n",
            "16/16 [==============================] - 0s 5ms/step - loss: 0.6648 - accuracy: 0.3640 - val_loss: 0.6510 - val_accuracy: 0.4238 - lr: 0.0010\n",
            "Epoch 9/100\n",
            "16/16 [==============================] - 0s 5ms/step - loss: 0.6318 - accuracy: 0.4458 - val_loss: 0.6177 - val_accuracy: 0.6714 - lr: 0.0010\n",
            "Epoch 10/100\n",
            "16/16 [==============================] - 0s 4ms/step - loss: 0.5966 - accuracy: 0.7526 - val_loss: 0.5831 - val_accuracy: 0.8190 - lr: 0.0010\n",
            "Epoch 11/100\n",
            "16/16 [==============================] - 0s 5ms/step - loss: 0.5581 - accuracy: 0.8528 - val_loss: 0.5452 - val_accuracy: 0.8667 - lr: 0.0010\n",
            "Epoch 12/100\n",
            "16/16 [==============================] - 0s 5ms/step - loss: 0.5184 - accuracy: 0.8855 - val_loss: 0.5046 - val_accuracy: 0.8905 - lr: 0.0010\n",
            "Epoch 13/100\n",
            "16/16 [==============================] - 0s 5ms/step - loss: 0.4777 - accuracy: 0.9018 - val_loss: 0.4683 - val_accuracy: 0.8952 - lr: 0.0010\n",
            "Epoch 14/100\n",
            "16/16 [==============================] - 0s 5ms/step - loss: 0.4413 - accuracy: 0.9100 - val_loss: 0.4380 - val_accuracy: 0.8905 - lr: 0.0010\n",
            "Epoch 15/100\n",
            "16/16 [==============================] - 0s 4ms/step - loss: 0.4119 - accuracy: 0.9162 - val_loss: 0.4122 - val_accuracy: 0.9000 - lr: 0.0010\n",
            "Epoch 16/100\n",
            "16/16 [==============================] - 0s 4ms/step - loss: 0.3848 - accuracy: 0.9182 - val_loss: 0.3890 - val_accuracy: 0.9190 - lr: 0.0010\n",
            "Epoch 17/100\n",
            "16/16 [==============================] - 0s 4ms/step - loss: 0.3617 - accuracy: 0.9202 - val_loss: 0.3706 - val_accuracy: 0.9190 - lr: 0.0010\n",
            "Epoch 18/100\n",
            "16/16 [==============================] - 0s 5ms/step - loss: 0.3417 - accuracy: 0.9182 - val_loss: 0.3559 - val_accuracy: 0.9238 - lr: 0.0010\n",
            "Epoch 19/100\n",
            "16/16 [==============================] - 0s 5ms/step - loss: 0.3236 - accuracy: 0.9223 - val_loss: 0.3417 - val_accuracy: 0.9286 - lr: 0.0010\n",
            "Epoch 20/100\n",
            "16/16 [==============================] - 0s 5ms/step - loss: 0.3083 - accuracy: 0.9264 - val_loss: 0.3300 - val_accuracy: 0.9286 - lr: 0.0010\n",
            "Epoch 21/100\n",
            "16/16 [==============================] - 0s 4ms/step - loss: 0.2951 - accuracy: 0.9305 - val_loss: 0.3208 - val_accuracy: 0.9238 - lr: 0.0010\n",
            "Epoch 22/100\n",
            "16/16 [==============================] - 0s 4ms/step - loss: 0.2826 - accuracy: 0.9305 - val_loss: 0.3114 - val_accuracy: 0.9238 - lr: 0.0010\n",
            "Epoch 23/100\n",
            "16/16 [==============================] - 0s 4ms/step - loss: 0.2714 - accuracy: 0.9366 - val_loss: 0.3047 - val_accuracy: 0.9238 - lr: 0.0010\n",
            "Epoch 24/100\n",
            "16/16 [==============================] - 0s 4ms/step - loss: 0.2602 - accuracy: 0.9427 - val_loss: 0.2977 - val_accuracy: 0.9190 - lr: 0.0010\n",
            "Epoch 25/100\n",
            "16/16 [==============================] - 0s 4ms/step - loss: 0.2522 - accuracy: 0.9387 - val_loss: 0.2918 - val_accuracy: 0.9190 - lr: 0.0010\n",
            "Epoch 26/100\n",
            "16/16 [==============================] - 0s 4ms/step - loss: 0.2433 - accuracy: 0.9427 - val_loss: 0.2866 - val_accuracy: 0.9190 - lr: 0.0010\n",
            "Epoch 27/100\n",
            "16/16 [==============================] - 0s 4ms/step - loss: 0.2348 - accuracy: 0.9427 - val_loss: 0.2818 - val_accuracy: 0.9190 - lr: 0.0010\n",
            "Epoch 28/100\n",
            "16/16 [==============================] - 0s 5ms/step - loss: 0.2272 - accuracy: 0.9468 - val_loss: 0.2778 - val_accuracy: 0.9190 - lr: 0.0010\n",
            "Epoch 29/100\n",
            "16/16 [==============================] - 0s 4ms/step - loss: 0.2205 - accuracy: 0.9489 - val_loss: 0.2743 - val_accuracy: 0.9190 - lr: 0.0010\n",
            "Epoch 30/100\n",
            "16/16 [==============================] - 0s 4ms/step - loss: 0.2135 - accuracy: 0.9489 - val_loss: 0.2699 - val_accuracy: 0.9190 - lr: 0.0010\n",
            "Epoch 31/100\n",
            "16/16 [==============================] - 0s 5ms/step - loss: 0.2073 - accuracy: 0.9509 - val_loss: 0.2670 - val_accuracy: 0.9190 - lr: 0.0010\n",
            "Epoch 32/100\n",
            "16/16 [==============================] - 0s 5ms/step - loss: 0.2022 - accuracy: 0.9571 - val_loss: 0.2642 - val_accuracy: 0.9286 - lr: 0.0010\n",
            "Epoch 33/100\n",
            "16/16 [==============================] - 0s 4ms/step - loss: 0.1967 - accuracy: 0.9509 - val_loss: 0.2623 - val_accuracy: 0.9333 - lr: 0.0010\n",
            "Epoch 34/100\n",
            "16/16 [==============================] - 0s 5ms/step - loss: 0.1905 - accuracy: 0.9611 - val_loss: 0.2577 - val_accuracy: 0.9286 - lr: 0.0010\n",
            "Epoch 35/100\n",
            "16/16 [==============================] - 0s 5ms/step - loss: 0.1864 - accuracy: 0.9591 - val_loss: 0.2543 - val_accuracy: 0.9238 - lr: 0.0010\n",
            "Epoch 36/100\n",
            "16/16 [==============================] - 0s 5ms/step - loss: 0.1805 - accuracy: 0.9611 - val_loss: 0.2526 - val_accuracy: 0.9333 - lr: 0.0010\n",
            "Epoch 37/100\n",
            "16/16 [==============================] - 0s 4ms/step - loss: 0.1770 - accuracy: 0.9611 - val_loss: 0.2516 - val_accuracy: 0.9333 - lr: 0.0010\n",
            "Epoch 38/100\n",
            "16/16 [==============================] - 0s 4ms/step - loss: 0.1716 - accuracy: 0.9632 - val_loss: 0.2473 - val_accuracy: 0.9286 - lr: 0.0010\n",
            "Epoch 39/100\n",
            "16/16 [==============================] - 0s 5ms/step - loss: 0.1679 - accuracy: 0.9611 - val_loss: 0.2452 - val_accuracy: 0.9333 - lr: 0.0010\n",
            "Epoch 40/100\n",
            "16/16 [==============================] - 0s 5ms/step - loss: 0.1654 - accuracy: 0.9652 - val_loss: 0.2448 - val_accuracy: 0.9333 - lr: 0.0010\n",
            "Epoch 41/100\n",
            "16/16 [==============================] - 0s 4ms/step - loss: 0.1599 - accuracy: 0.9611 - val_loss: 0.2409 - val_accuracy: 0.9286 - lr: 0.0010\n",
            "Epoch 42/100\n",
            "16/16 [==============================] - 0s 5ms/step - loss: 0.1579 - accuracy: 0.9632 - val_loss: 0.2400 - val_accuracy: 0.9381 - lr: 0.0010\n",
            "Epoch 43/100\n",
            "16/16 [==============================] - 0s 4ms/step - loss: 0.1543 - accuracy: 0.9591 - val_loss: 0.2368 - val_accuracy: 0.9286 - lr: 0.0010\n",
            "Epoch 44/100\n",
            "16/16 [==============================] - 0s 4ms/step - loss: 0.1499 - accuracy: 0.9611 - val_loss: 0.2356 - val_accuracy: 0.9333 - lr: 0.0010\n",
            "Epoch 45/100\n",
            "16/16 [==============================] - 0s 4ms/step - loss: 0.1466 - accuracy: 0.9652 - val_loss: 0.2346 - val_accuracy: 0.9381 - lr: 0.0010\n",
            "Epoch 46/100\n",
            "16/16 [==============================] - 0s 4ms/step - loss: 0.1446 - accuracy: 0.9652 - val_loss: 0.2326 - val_accuracy: 0.9333 - lr: 0.0010\n",
            "Epoch 47/100\n",
            "16/16 [==============================] - 0s 4ms/step - loss: 0.1419 - accuracy: 0.9673 - val_loss: 0.2321 - val_accuracy: 0.9381 - lr: 0.0010\n",
            "Epoch 48/100\n",
            "16/16 [==============================] - 0s 5ms/step - loss: 0.1379 - accuracy: 0.9673 - val_loss: 0.2301 - val_accuracy: 0.9286 - lr: 0.0010\n",
            "Epoch 49/100\n",
            "16/16 [==============================] - 0s 4ms/step - loss: 0.1367 - accuracy: 0.9673 - val_loss: 0.2286 - val_accuracy: 0.9333 - lr: 0.0010\n",
            "Epoch 50/100\n",
            "16/16 [==============================] - 0s 5ms/step - loss: 0.1335 - accuracy: 0.9693 - val_loss: 0.2273 - val_accuracy: 0.9333 - lr: 0.0010\n",
            "Epoch 51/100\n",
            "16/16 [==============================] - 0s 5ms/step - loss: 0.1316 - accuracy: 0.9693 - val_loss: 0.2261 - val_accuracy: 0.9333 - lr: 0.0010\n",
            "Epoch 52/100\n",
            "16/16 [==============================] - 0s 4ms/step - loss: 0.1294 - accuracy: 0.9693 - val_loss: 0.2246 - val_accuracy: 0.9333 - lr: 0.0010\n",
            "Epoch 53/100\n",
            "16/16 [==============================] - 0s 5ms/step - loss: 0.1271 - accuracy: 0.9693 - val_loss: 0.2233 - val_accuracy: 0.9333 - lr: 0.0010\n",
            "Epoch 54/100\n",
            "16/16 [==============================] - 0s 5ms/step - loss: 0.1278 - accuracy: 0.9673 - val_loss: 0.2223 - val_accuracy: 0.9381 - lr: 0.0010\n",
            "Epoch 55/100\n",
            "16/16 [==============================] - 0s 4ms/step - loss: 0.1228 - accuracy: 0.9673 - val_loss: 0.2214 - val_accuracy: 0.9333 - lr: 0.0010\n",
            "Epoch 56/100\n",
            "16/16 [==============================] - 0s 4ms/step - loss: 0.1214 - accuracy: 0.9693 - val_loss: 0.2209 - val_accuracy: 0.9333 - lr: 0.0010\n",
            "Epoch 57/100\n",
            "16/16 [==============================] - 0s 5ms/step - loss: 0.1196 - accuracy: 0.9693 - val_loss: 0.2191 - val_accuracy: 0.9333 - lr: 0.0010\n",
            "Epoch 58/100\n",
            "16/16 [==============================] - 0s 5ms/step - loss: 0.1183 - accuracy: 0.9693 - val_loss: 0.2181 - val_accuracy: 0.9333 - lr: 0.0010\n",
            "Epoch 59/100\n",
            "16/16 [==============================] - 0s 4ms/step - loss: 0.1165 - accuracy: 0.9673 - val_loss: 0.2166 - val_accuracy: 0.9381 - lr: 0.0010\n",
            "Epoch 60/100\n",
            "16/16 [==============================] - 0s 4ms/step - loss: 0.1153 - accuracy: 0.9673 - val_loss: 0.2154 - val_accuracy: 0.9333 - lr: 0.0010\n",
            "Epoch 61/100\n",
            "16/16 [==============================] - 0s 5ms/step - loss: 0.1142 - accuracy: 0.9693 - val_loss: 0.2145 - val_accuracy: 0.9333 - lr: 0.0010\n",
            "Epoch 62/100\n",
            "16/16 [==============================] - 0s 5ms/step - loss: 0.1118 - accuracy: 0.9693 - val_loss: 0.2129 - val_accuracy: 0.9381 - lr: 0.0010\n",
            "Epoch 63/100\n",
            "16/16 [==============================] - 0s 4ms/step - loss: 0.1110 - accuracy: 0.9693 - val_loss: 0.2111 - val_accuracy: 0.9333 - lr: 0.0010\n",
            "Epoch 64/100\n",
            "16/16 [==============================] - 0s 4ms/step - loss: 0.1084 - accuracy: 0.9673 - val_loss: 0.2083 - val_accuracy: 0.9381 - lr: 0.0010\n",
            "Epoch 65/100\n",
            "16/16 [==============================] - 0s 5ms/step - loss: 0.1068 - accuracy: 0.9714 - val_loss: 0.2074 - val_accuracy: 0.9381 - lr: 0.0010\n",
            "Epoch 66/100\n",
            "16/16 [==============================] - 0s 5ms/step - loss: 0.1056 - accuracy: 0.9693 - val_loss: 0.2069 - val_accuracy: 0.9333 - lr: 0.0010\n",
            "Epoch 67/100\n",
            "16/16 [==============================] - 0s 5ms/step - loss: 0.1046 - accuracy: 0.9693 - val_loss: 0.2038 - val_accuracy: 0.9381 - lr: 0.0010\n",
            "Epoch 68/100\n",
            "16/16 [==============================] - 0s 5ms/step - loss: 0.1032 - accuracy: 0.9693 - val_loss: 0.2028 - val_accuracy: 0.9333 - lr: 0.0010\n",
            "Epoch 69/100\n",
            "16/16 [==============================] - 0s 5ms/step - loss: 0.1015 - accuracy: 0.9714 - val_loss: 0.2023 - val_accuracy: 0.9381 - lr: 0.0010\n",
            "Epoch 70/100\n",
            "16/16 [==============================] - 0s 4ms/step - loss: 0.1016 - accuracy: 0.9714 - val_loss: 0.2011 - val_accuracy: 0.9333 - lr: 0.0010\n",
            "Epoch 71/100\n",
            "16/16 [==============================] - 0s 4ms/step - loss: 0.0993 - accuracy: 0.9714 - val_loss: 0.1993 - val_accuracy: 0.9381 - lr: 0.0010\n",
            "Epoch 72/100\n",
            "16/16 [==============================] - 0s 5ms/step - loss: 0.0991 - accuracy: 0.9734 - val_loss: 0.1983 - val_accuracy: 0.9333 - lr: 0.0010\n",
            "Epoch 73/100\n",
            "16/16 [==============================] - 0s 4ms/step - loss: 0.0975 - accuracy: 0.9734 - val_loss: 0.1981 - val_accuracy: 0.9333 - lr: 0.0010\n",
            "Epoch 74/100\n",
            "16/16 [==============================] - 0s 4ms/step - loss: 0.0963 - accuracy: 0.9714 - val_loss: 0.1980 - val_accuracy: 0.9333 - lr: 0.0010\n",
            "Epoch 75/100\n",
            "16/16 [==============================] - 0s 4ms/step - loss: 0.0954 - accuracy: 0.9714 - val_loss: 0.1976 - val_accuracy: 0.9333 - lr: 0.0010\n",
            "Epoch 76/100\n",
            "16/16 [==============================] - 0s 4ms/step - loss: 0.0943 - accuracy: 0.9734 - val_loss: 0.1949 - val_accuracy: 0.9381 - lr: 0.0010\n",
            "Epoch 77/100\n",
            "16/16 [==============================] - 0s 4ms/step - loss: 0.0936 - accuracy: 0.9755 - val_loss: 0.1935 - val_accuracy: 0.9333 - lr: 0.0010\n",
            "Epoch 78/100\n",
            "16/16 [==============================] - 0s 5ms/step - loss: 0.0924 - accuracy: 0.9755 - val_loss: 0.1930 - val_accuracy: 0.9333 - lr: 0.0010\n",
            "Epoch 79/100\n",
            "16/16 [==============================] - 0s 5ms/step - loss: 0.0928 - accuracy: 0.9755 - val_loss: 0.1928 - val_accuracy: 0.9333 - lr: 0.0010\n",
            "Epoch 80/100\n",
            "16/16 [==============================] - 0s 5ms/step - loss: 0.0909 - accuracy: 0.9796 - val_loss: 0.1910 - val_accuracy: 0.9333 - lr: 0.0010\n",
            "Epoch 81/100\n",
            "16/16 [==============================] - 0s 5ms/step - loss: 0.0896 - accuracy: 0.9755 - val_loss: 0.1904 - val_accuracy: 0.9381 - lr: 0.0010\n",
            "Epoch 82/100\n",
            "16/16 [==============================] - 0s 4ms/step - loss: 0.0891 - accuracy: 0.9755 - val_loss: 0.1895 - val_accuracy: 0.9333 - lr: 0.0010\n",
            "Epoch 83/100\n",
            "16/16 [==============================] - 0s 4ms/step - loss: 0.0880 - accuracy: 0.9755 - val_loss: 0.1885 - val_accuracy: 0.9333 - lr: 0.0010\n",
            "Epoch 84/100\n",
            "16/16 [==============================] - 0s 5ms/step - loss: 0.0869 - accuracy: 0.9755 - val_loss: 0.1882 - val_accuracy: 0.9333 - lr: 0.0010\n",
            "Epoch 85/100\n",
            "16/16 [==============================] - 0s 5ms/step - loss: 0.0856 - accuracy: 0.9775 - val_loss: 0.1876 - val_accuracy: 0.9333 - lr: 0.0010\n",
            "Epoch 86/100\n",
            "16/16 [==============================] - 0s 5ms/step - loss: 0.0848 - accuracy: 0.9755 - val_loss: 0.1851 - val_accuracy: 0.9333 - lr: 0.0010\n",
            "Epoch 87/100\n",
            "16/16 [==============================] - 0s 4ms/step - loss: 0.0838 - accuracy: 0.9775 - val_loss: 0.1846 - val_accuracy: 0.9333 - lr: 0.0010\n",
            "Epoch 88/100\n",
            "16/16 [==============================] - 0s 5ms/step - loss: 0.0830 - accuracy: 0.9796 - val_loss: 0.1834 - val_accuracy: 0.9381 - lr: 0.0010\n",
            "Epoch 89/100\n",
            "16/16 [==============================] - 0s 4ms/step - loss: 0.0822 - accuracy: 0.9796 - val_loss: 0.1837 - val_accuracy: 0.9333 - lr: 0.0010\n",
            "Epoch 90/100\n",
            "16/16 [==============================] - 0s 4ms/step - loss: 0.0820 - accuracy: 0.9775 - val_loss: 0.1814 - val_accuracy: 0.9381 - lr: 0.0010\n",
            "Epoch 91/100\n",
            "16/16 [==============================] - 0s 4ms/step - loss: 0.0806 - accuracy: 0.9796 - val_loss: 0.1813 - val_accuracy: 0.9333 - lr: 0.0010\n",
            "Epoch 92/100\n",
            "16/16 [==============================] - 0s 5ms/step - loss: 0.0794 - accuracy: 0.9816 - val_loss: 0.1797 - val_accuracy: 0.9381 - lr: 0.0010\n",
            "Epoch 93/100\n",
            "16/16 [==============================] - 0s 5ms/step - loss: 0.0790 - accuracy: 0.9796 - val_loss: 0.1791 - val_accuracy: 0.9381 - lr: 0.0010\n",
            "Epoch 94/100\n",
            "16/16 [==============================] - 0s 4ms/step - loss: 0.0792 - accuracy: 0.9775 - val_loss: 0.1789 - val_accuracy: 0.9381 - lr: 0.0010\n",
            "Epoch 95/100\n",
            "16/16 [==============================] - 0s 5ms/step - loss: 0.0775 - accuracy: 0.9836 - val_loss: 0.1787 - val_accuracy: 0.9429 - lr: 0.0010\n",
            "Epoch 96/100\n",
            "16/16 [==============================] - 0s 5ms/step - loss: 0.0765 - accuracy: 0.9836 - val_loss: 0.1780 - val_accuracy: 0.9381 - lr: 0.0010\n",
            "Epoch 97/100\n",
            "16/16 [==============================] - 0s 4ms/step - loss: 0.0759 - accuracy: 0.9836 - val_loss: 0.1783 - val_accuracy: 0.9429 - lr: 0.0010\n",
            "Epoch 98/100\n",
            "16/16 [==============================] - 0s 5ms/step - loss: 0.0752 - accuracy: 0.9836 - val_loss: 0.1768 - val_accuracy: 0.9429 - lr: 0.0010\n",
            "Epoch 99/100\n",
            "16/16 [==============================] - 0s 4ms/step - loss: 0.0752 - accuracy: 0.9836 - val_loss: 0.1738 - val_accuracy: 0.9429 - lr: 0.0010\n",
            "Epoch 100/100\n",
            "16/16 [==============================] - 0s 4ms/step - loss: 0.0736 - accuracy: 0.9836 - val_loss: 0.1738 - val_accuracy: 0.9429 - lr: 0.0010\n"
          ]
        }
      ]
    },
    {
      "cell_type": "code",
      "source": [
        "# Plot train vs test accuracy per epoch\n",
        "plt.figure()\n",
        "# Use the history metrics\n",
        "plt.plot(history_model2.history['accuracy'])\n",
        "plt.plot(history_model2.history['val_accuracy'])\n",
        "# Make it pretty\n",
        "plt.title('Model accuracy')\n",
        "plt.ylabel('Accuracy')\n",
        "plt.xlabel('Epoch')\n",
        "plt.legend(['Train', 'Test'])\n",
        "plt.show()"
      ],
      "metadata": {
        "colab": {
          "base_uri": "https://localhost:8080/",
          "height": 472
        },
        "id": "Lp2STbkMOXrg",
        "outputId": "253211d5-89d9-4ae8-f2d4-a318f7c5493f"
      },
      "execution_count": 104,
      "outputs": [
        {
          "output_type": "display_data",
          "data": {
            "text/plain": [
              "<Figure size 640x480 with 1 Axes>"
            ],
            "image/png": "[encoded data removed]"
          },
          "metadata": {}
        }
      ]
    },
    {
      "cell_type": "code",
      "source": [
        "# Evaluate the model\n",
        "_, accuracy_m2 = model2.evaluate(test_data, test_labels)\n",
        "print('Accuracy: %.2f' % (accuracy_m2*100))"
      ],
      "metadata": {
        "colab": {
          "base_uri": "https://localhost:8080/"
        },
        "id": "V4dp_YzMO7yK",
        "outputId": "8bea0039-2f1c-4571-a28f-7d2e49f43b34"
      },
      "execution_count": 105,
      "outputs": [
        {
          "output_type": "stream",
          "name": "stdout",
          "text": [
            "7/7 [==============================] - 0s 2ms/step - loss: 0.1738 - accuracy: 0.9429\n",
            "Accuracy: 94.29\n"
          ]
        }
      ]
    },
    {
      "cell_type": "code",
      "source": [
        "# Predict class for test data\n",
        "y_pred_m2 = model2.predict(test_data)\n",
        "y_pred_m2 = (y_pred_m2 > 0.5)\n"
      ],
      "metadata": {
        "colab": {
          "base_uri": "https://localhost:8080/"
        },
        "id": "09S9kvCuPKyd",
        "outputId": "fb88e20a-ae0b-4658-8877-20184a9a8854"
      },
      "execution_count": 106,
      "outputs": [
        {
          "output_type": "stream",
          "name": "stdout",
          "text": [
            "7/7 [==============================] - 0s 3ms/step\n"
          ]
        }
      ]
    },
    {
      "cell_type": "code",
      "source": [
        "# Generate confusion matrix\n",
        "confusion_matrix_m2 = confusion_matrix(test_labels, y_pred_m2)\n",
        "print(confusion_matrix_m2)"
      ],
      "metadata": {
        "colab": {
          "base_uri": "https://localhost:8080/"
        },
        "id": "IK1t_DZdPEJ3",
        "outputId": "8c640055-55f1-4a0f-c4c2-1411275eca53"
      },
      "execution_count": 107,
      "outputs": [
        {
          "output_type": "stream",
          "name": "stdout",
          "text": [
            "[[131   7]\n",
            " [  5  67]]\n"
          ]
        }
      ]
    },
    {
      "cell_type": "code",
      "source": [
        "#Print confusion matrix\n",
        "plt.figure(figsize = (10,8))\n",
        "sns.heatmap(confusion_matrix_m2, linewidths = 0.1, cmap = 'Blues', linecolor = 'gray', fmt = '.1f', annot = True)\n",
        "plt.xlabel('Predicted classes', fontsize = 20)\n",
        "plt.ylabel('True classes', fontsize = 20)\n",
        "print(confusion_matrix_m2)\n"
      ],
      "metadata": {
        "colab": {
          "base_uri": "https://localhost:8080/",
          "height": 745
        },
        "id": "QnUjkXehPS_f",
        "outputId": "e30d6055-a46a-43bb-badb-66bc72630262"
      },
      "execution_count": 108,
      "outputs": [
        {
          "output_type": "stream",
          "name": "stdout",
          "text": [
            "[[131   7]\n",
            " [  5  67]]\n"
          ]
        },
        {
          "output_type": "display_data",
          "data": {
            "text/plain": [
              "<Figure size 1000x800 with 2 Axes>"
            ],
            "image/png": "[encoded data removed]"
          },
          "metadata": {}
        }
      ]
    }
  ]
}